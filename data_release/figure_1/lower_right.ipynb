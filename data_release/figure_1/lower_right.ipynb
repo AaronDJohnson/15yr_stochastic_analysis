{
 "cells": [
  {
   "cell_type": "markdown",
   "metadata": {},
   "source": [
    "# Notebook to create Bayesian spline ORF plot\n"
   ]
  },
  {
   "cell_type": "code",
   "execution_count": null,
   "metadata": {},
   "outputs": [],
   "source": [
    "import numpy as np\n",
    "import scipy.constants as sc\n",
    "import scipy.interpolate as interp\n",
    "import glob, os, json, corner, pickle\n",
    "from itertools import combinations\n",
    "\n",
    "import matplotlib.pyplot as plt\n",
    "import matplotlib\n",
    "%config InlineBackend.figure_format='retina'\n",
    "matplotlib.rcParams.update(matplotlib.rcParamsDefault)"
   ]
  },
  {
   "cell_type": "markdown",
   "metadata": {},
   "source": [
    "### Plotting specifications"
   ]
  },
  {
   "cell_type": "code",
   "execution_count": null,
   "metadata": {},
   "outputs": [],
   "source": [
    "# Check if latex is on your path\n",
    "!which latex"
   ]
  },
  {
   "cell_type": "code",
   "execution_count": null,
   "metadata": {},
   "outputs": [],
   "source": [
    "# If not, add it\n",
    "os.environ[\"PATH\"] += os.pathsep + '/home/taylosr8/latex_tmp/tex/bin/x86_64-linux'\n",
    "print(os.getenv(\"PATH\"))"
   ]
  },
  {
   "cell_type": "code",
   "execution_count": null,
   "metadata": {},
   "outputs": [],
   "source": [
    "plt.rcParams.update(plt.rcParamsDefault)\n",
    "with open('../ng15_rcparams.json', 'rb') as fin:\n",
    "    plt.rcParams.update(json.load(fin))"
   ]
  },
  {
   "cell_type": "code",
   "execution_count": null,
   "metadata": {},
   "outputs": [],
   "source": [
    "# do you need to install la_forge?\n",
    "#!pip install git+https://github.com/nanograv/la_forge.git\n",
    "import la_forge.core as co"
   ]
  },
  {
   "cell_type": "code",
   "execution_count": null,
   "metadata": {},
   "outputs": [],
   "source": [
    "datapath = './figure1_data/'"
   ]
  },
  {
   "cell_type": "code",
   "execution_count": null,
   "metadata": {},
   "outputs": [],
   "source": [
    "def hd_orf(xi):\n",
    "    omc2 = (1 - np.cos(xi)) / 2\n",
    "    return 1.5 * omc2 * np.log(omc2) - 0.25 * omc2 + 0.5"
   ]
  },
  {
   "cell_type": "markdown",
   "metadata": {},
   "source": [
    "### Varied gamma: Loading la_forge chain core (from Nima Laal)"
   ]
  },
  {
   "cell_type": "code",
   "execution_count": null,
   "metadata": {},
   "outputs": [],
   "source": [
    "corepath = datapath + 'SplineORF_VariedGamma_NL.core' # or 'SplineORF_FixedGamma_NL.core'\n",
    "splorf = co.Core(corepath=corepath)  # open the file\n",
    "\n",
    "params = splorf.params  # access parameter names"
   ]
  },
  {
   "cell_type": "code",
   "execution_count": null,
   "metadata": {},
   "outputs": [],
   "source": [
    "# orf param names\n",
    "splorf_labels = [f'gw_orf_spline_{ii}' for ii in range(7)]  \n",
    "\n",
    "# accessing spline orf\n",
    "splorf_chain = splorf(splorf_labels)  # returns array of burn-in chain"
   ]
  },
  {
   "cell_type": "code",
   "execution_count": null,
   "metadata": {},
   "outputs": [],
   "source": [
    "## spline positions chosen as follows:\n",
    "\n",
    "## ~0 and 180 degrees,\n",
    "## zero positions of HD curve (49.3 and 121.8 degrees),\n",
    "## minimum position of HD curve (82.5 degrees)\n",
    "## 25 and 150 degrees are approximately halfway between other splines.\n",
    "\n",
    "pos =  np.array([1e-3, 25.0, 49.3, 82.5,\n",
    "                         121.8, 150.0, 180.0]) \n",
    "q = [[.158, 0.5, 0.84] for _ in range(len(pos))]"
   ]
  },
  {
   "cell_type": "code",
   "execution_count": null,
   "metadata": {},
   "outputs": [],
   "source": [
    "from matplotlib.ticker import FormatStrFormatter\n",
    "import matplotlib.patches as mpatches\n",
    "\n",
    "fig = plt.figure()\n",
    "ax = fig.add_subplot(111, rasterized=True)\n",
    "\n",
    "ax.plot(np.linspace(0,np.pi,1000)*180.0/np.pi, \n",
    "        hd_orf(np.linspace(0,np.pi,1000)), \n",
    "        lw = 1.5, color='k', ls = '--')\n",
    "ax.axhline(0, color='k', lw=0.8)\n",
    "\n",
    "# violinplot of random samples\n",
    "v1 = ax.violinplot(splorf_chain[:,:], positions=pos,\n",
    "                   quantiles=q, bw_method=0.3,\n",
    "                    widths=15.0, showextrema=False)\n",
    "\n",
    "for pc in v1['bodies']:\n",
    "    pc.set_facecolor('C0')\n",
    "    pc.set_edgecolor('None')\n",
    "    pc.set_linestyle('None')\n",
    "    pc.set_alpha(0.2)\n",
    "    \n",
    "# violinplot of random samples\n",
    "v2 = ax.violinplot(splorf_chain[:,:], positions=pos,\n",
    "                   quantiles=None, bw_method=0.3,\n",
    "                    widths=15.0, showextrema=False)\n",
    "\n",
    "for pc in v2['bodies']:\n",
    "    pc.set_facecolor('None')\n",
    "    pc.set_edgecolor('C0')\n",
    "    pc.set_linestyle('None')\n",
    "    pc.set_alpha(1.0)\n",
    "\n",
    "plt.xticks(labels = ['0', '30', '60', '90', '120', '150', '180'], \n",
    "           ticks = np.array([0, 30, 60, 90, 120, 150, 180]))\n",
    "plt.xlabel(r'Separation Angle Between Pulsars, $\\xi_{ab}$ [degrees]',fontsize=10)\n",
    "plt.ylabel(r'$\\Gamma(\\xi_{ab})$') \n",
    "\n",
    "ax.set_xlim(-10.01,190.01)\n",
    "ax.set_ylim(-0.4,1)\n",
    "ax.set_yticks([-0.3, 0.0, 0.3, 0.6, 0.9]);\n",
    "ax.yaxis.set_major_formatter(FormatStrFormatter('%.1f'));\n",
    "\n",
    "empty_patch = mpatches.Patch(color='none', \n",
    "                             label='$\\gamma$ varied') \n",
    "plt.legend(handles=[empty_patch],loc='upper right',\n",
    "           frameon=False,prop={'size': 9})\n",
    "\n",
    "plt.show()\n",
    "#plt.savefig('./nano15_splineorf_vg_violinplot_fig1_050423.pdf',bbox_inches='tight',dpi=400)"
   ]
  }
 ],
 "metadata": {
  "kernelspec": {
   "display_name": "Python 3",
   "language": "python",
   "name": "python3"
  },
  "language_info": {
   "codemirror_mode": {
    "name": "ipython",
    "version": 3
   },
   "file_extension": ".py",
   "mimetype": "text/x-python",
   "name": "python",
   "nbconvert_exporter": "python",
   "pygments_lexer": "ipython3",
   "version": "3.7.6"
  }
 },
 "nbformat": 4,
 "nbformat_minor": 2
}
