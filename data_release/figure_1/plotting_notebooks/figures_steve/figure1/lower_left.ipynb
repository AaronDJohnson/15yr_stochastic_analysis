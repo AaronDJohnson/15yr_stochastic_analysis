{
 "cells": [
  {
   "cell_type": "markdown",
   "metadata": {},
   "source": [
    "# Notebook to create amplitude versus gamma plot"
   ]
  },
  {
   "cell_type": "code",
   "execution_count": null,
   "metadata": {},
   "outputs": [],
   "source": [
    "import numpy as np\n",
    "import scipy.constants as sc\n",
    "import glob, os, json, corner\n",
    "import pandas as pd\n",
    "\n",
    "import matplotlib.pyplot as plt\n",
    "import matplotlib\n",
    "%config InlineBackend.figure_format='retina'\n",
    "matplotlib.rcParams.update(matplotlib.rcParamsDefault)"
   ]
  },
  {
   "cell_type": "markdown",
   "metadata": {},
   "source": [
    "### Plotting specifications"
   ]
  },
  {
   "cell_type": "code",
   "execution_count": null,
   "metadata": {},
   "outputs": [],
   "source": [
    "# Check if latex is on your path\n",
    "!which latex"
   ]
  },
  {
   "cell_type": "code",
   "execution_count": null,
   "metadata": {},
   "outputs": [],
   "source": [
    "# If not, add it\n",
    "os.environ[\"PATH\"] += os.pathsep + '/home/taylosr8/latex_tmp/tex/bin/x86_64-linux'\n",
    "print(os.getenv(\"PATH\"))"
   ]
  },
  {
   "cell_type": "code",
   "execution_count": null,
   "metadata": {},
   "outputs": [],
   "source": [
    "# 15yr plotting specs\n",
    "plt.rcParams.update(plt.rcParamsDefault)\n",
    "with open('./ng15_rcparams.json', 'rb') as fin:\n",
    "    plt.rcParams.update(json.load(fin))"
   ]
  },
  {
   "cell_type": "code",
   "execution_count": null,
   "metadata": {},
   "outputs": [],
   "source": [
    "# do you need to install la_forge?\n",
    "#!pip install git+https://github.com/nanograv/la_forge.git\n",
    "#import la_forge.core as co"
   ]
  },
  {
   "cell_type": "code",
   "execution_count": null,
   "metadata": {},
   "outputs": [],
   "source": [
    "#!pip install chainconsumer\n",
    "from chainconsumer import ChainConsumer"
   ]
  },
  {
   "cell_type": "markdown",
   "metadata": {},
   "source": [
    "### Read in long HD chains for fixed and varied gamma. \n",
    "\n",
    "These are concatenated from runs by William Lamb and Nihan Pol."
   ]
  },
  {
   "cell_type": "code",
   "execution_count": null,
   "metadata": {},
   "outputs": [],
   "source": [
    "datapath = './figure1_data/'"
   ]
  },
  {
   "cell_type": "markdown",
   "metadata": {},
   "source": [
    "#### Varied gamma"
   ]
  },
  {
   "cell_type": "code",
   "execution_count": null,
   "metadata": {},
   "outputs": [],
   "source": [
    "hd_chain = np.load(datapath + 'nano15_hd_chain_long_050523.npy')"
   ]
  },
  {
   "cell_type": "code",
   "execution_count": null,
   "metadata": {},
   "outputs": [],
   "source": [
    "## amp\n",
    "print(10**np.percentile(hd_chain[:,1],q=5),#-10**np.percentile(hd_chain[:,1],q=50), \n",
    "      10**np.percentile(hd_chain[:,1],q=95),#-10**np.percentile(hd_chain[:,1],q=50), \n",
    "      10**np.percentile(hd_chain[:,1],q=50))\n",
    "## gamma\n",
    "print(np.percentile(hd_chain[:,0],q=5),#-np.percentile(hd_chain[:,0],q=50), \n",
    "      np.percentile(hd_chain[:,0],q=95),#-np.percentile(hd_chain[:,0],q=50), \n",
    "      np.percentile(hd_chain[:,0],q=50))"
   ]
  },
  {
   "cell_type": "markdown",
   "metadata": {},
   "source": [
    "#### Fixed gamma=13/3"
   ]
  },
  {
   "cell_type": "code",
   "execution_count": null,
   "metadata": {},
   "outputs": [],
   "source": [
    "hd_chain_fg = np.load(datapath + 'nano15_hd_chain_fg_long_050523.npy')"
   ]
  },
  {
   "cell_type": "code",
   "execution_count": null,
   "metadata": {},
   "outputs": [],
   "source": [
    "print(10**np.percentile(hd_chain_fg,q=5), \n",
    "      10**np.percentile(hd_chain_fg,q=95), \n",
    "      10**np.percentile(hd_chain_fg,q=50))"
   ]
  },
  {
   "cell_type": "code",
   "execution_count": null,
   "metadata": {},
   "outputs": [],
   "source": [
    "print(10**np.percentile(hd_chain_fg,q=5)-10**np.percentile(hd_chain_fg,q=50), \n",
    "      10**np.percentile(hd_chain_fg,q=95)-10**np.percentile(hd_chain_fg,q=50))"
   ]
  },
  {
   "cell_type": "code",
   "execution_count": null,
   "metadata": {},
   "outputs": [],
   "source": [
    "tmp_chain_fg = hd_chain_fg.copy()\n",
    "# updating amplitude to be referenced to lower frequency\n",
    "correction_factor = 0.5 * (3-(13./3.)) * np.log10(0.1)\n",
    "tmp_chain_fg = correction_factor + tmp_chain_fg"
   ]
  },
  {
   "cell_type": "code",
   "execution_count": null,
   "metadata": {},
   "outputs": [],
   "source": [
    "print(10**np.percentile(tmp_chain_fg,q=5), \n",
    "      10**np.percentile(tmp_chain_fg,q=95), \n",
    "      10**np.percentile(tmp_chain_fg,q=50))"
   ]
  },
  {
   "cell_type": "markdown",
   "metadata": {},
   "source": [
    "# Final Plot -- Note that I (Steve) made final tweaks in mac preview to get the manuscript plot"
   ]
  },
  {
   "cell_type": "code",
   "execution_count": null,
   "metadata": {},
   "outputs": [],
   "source": [
    "from matplotlib.ticker import FormatStrFormatter\n",
    "\n",
    "labs = [r'$\\gamma_\\mathrm{GWB}$', \n",
    "        r'$\\log_{10}A_\\mathrm{GWB}$']\n",
    "\n",
    "c = ChainConsumer()\n",
    "c.add_chain(hd_chain,\n",
    "          weights=None,\n",
    "          parameters=labs, \n",
    "          zorder=2, name='$f_\\mathrm{ref}$ = $1\\,\\, \\mathrm{yr}^{-1}\\quad 32\\,\\,\\mathrm{nHz}$')\n",
    "\n",
    "\n",
    "# reference frequency = 1 / 10yr \n",
    "tmp_chain = hd_chain.copy()\n",
    "# updating amplitude to be referenced to lower frequency\n",
    "correction_factor = 0.5 * (3-tmp_chain[:,0]) * np.log10(0.1)\n",
    "tmp_chain[:,1] = correction_factor + tmp_chain[:,1]\n",
    "\n",
    "\n",
    "c.add_chain(tmp_chain,\n",
    "          weights=None,\n",
    "          parameters=labs, \n",
    "          zorder=1, name='$f_\\mathrm{ref}$ = $0.1\\,\\, \\mathrm{yr}^{-1}\\quad 3.2\\,\\,\\mathrm{nHz}$')\n",
    "\n",
    "c.configure(usetex=True, \n",
    "            bar_shade=[False, False],\n",
    "            colors=['blue', 'orange'],\n",
    "           linestyles=['solid', 'solid'],\n",
    "           linewidths=[1.0,0.9],\n",
    "           shade=[True,False], \n",
    "            shade_alpha=[0.05, 0.0],\n",
    "            summary=False,\n",
    "            smooth=50.0,\n",
    "            diagonal_tick_labels=False,\n",
    "           legend_kwargs={'loc':(0.03,0.05), 'handlelength':0, \n",
    "                          'markerfirst':True, 'fontsize':'small'},\n",
    "           sigmas=[0,1,2,3], \n",
    "            shade_gradient=0.0)\n",
    "\n",
    "fig = c.plotter.plot(truth=[4.333,-12],\n",
    "                     extents=[(2, 4.5), (-14.8, -13.7)],\n",
    "                    figsize=(3.5503666805036667, 2.1942472810764047)) \n",
    "fig.axes[2].minorticks_on()\n",
    "fig.axes[2].tick_params(which='both',direction='in',tick2On=True)\n",
    "fig.axes[2].set_yticklabels(fig.axes[2].get_yticklabels(),rotation=45)\n",
    "fig.axes[2].set_yticks([-14.8,-14.6,-14.4,-14.2,-14.0,-13.8])\n",
    "fig.axes[2].yaxis.set_major_formatter(FormatStrFormatter('$%.1f$'));\n",
    "\n",
    "fig.axes[0].set_xlim(fig.axes[2].get_xlim())\n",
    "fig.axes[0].set_xticks(fig.axes[2].get_xticks()[:-1])\n",
    "fig.axes[0].minorticks_on()\n",
    "fig.axes[0].tick_params(which='both',direction='in',top=True,\n",
    "                        labeltop=False,bottom=True,labelbottom=False)\n",
    "\n",
    "fig.axes[3].set_yticks(fig.axes[2].get_yticks()[:-1])\n",
    "fig.axes[3].set_xlim(0,6.)\n",
    "fig.axes[3].minorticks_on()\n",
    "fig.axes[3].tick_params(which='both',direction='in',right=True,\n",
    "                        labelright=False,left=True,labelleft=False)\n",
    "fig.axes[3].hist(hd_chain_fg,density=True,color='C0',histtype='step',\n",
    "                 ls='dashed',lw=0.9,orientation='horizontal',bins=60)\n",
    "fig.axes[3].hist(tmp_chain_fg,density=True,color='C1',histtype='step',\n",
    "                 ls='dashed',lw=0.9,orientation='horizontal',bins=60)\n",
    "\n",
    "plt.show()\n",
    "#plt.savefig('nano15_14f_cornerplot_2amps_vg_fg_050523.pdf',bbox_inches='tight',dpi=400)"
   ]
  },
  {
   "cell_type": "code",
   "execution_count": null,
   "metadata": {},
   "outputs": [],
   "source": []
  }
 ],
 "metadata": {
  "kernelspec": {
   "display_name": "Python 3 (ipykernel)",
   "language": "python",
   "name": "python3"
  },
  "language_info": {
   "codemirror_mode": {
    "name": "ipython",
    "version": 3
   },
   "file_extension": ".py",
   "mimetype": "text/x-python",
   "name": "python",
   "nbconvert_exporter": "python",
   "pygments_lexer": "ipython3",
   "version": "3.8.13"
  }
 },
 "nbformat": 4,
 "nbformat_minor": 2
}
