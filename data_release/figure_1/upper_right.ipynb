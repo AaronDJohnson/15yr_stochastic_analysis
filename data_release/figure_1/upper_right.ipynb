{
 "cells": [
  {
   "cell_type": "markdown",
   "id": "16c1ff23",
   "metadata": {},
   "source": [
    "# Notebook to create optimal statistic plot"
   ]
  },
  {
   "cell_type": "markdown",
   "id": "c17b004c",
   "metadata": {},
   "source": [
    "### Download data and uncompress the files into this folder\n",
    "\n",
    "https://drive.google.com/file/d/1zywc5zUpMSlYDrrdogPEaRd_RTr9U5J6/view?usp=sharing"
   ]
  },
  {
   "cell_type": "code",
   "execution_count": null,
   "id": "c4585eb1",
   "metadata": {},
   "outputs": [],
   "source": [
    "!pip install tqdm"
   ]
  },
  {
   "cell_type": "code",
   "execution_count": 1,
   "metadata": {},
   "outputs": [
    {
     "name": "stdout",
     "output_type": "stream",
     "text": [
      "Warning: cannot find astropy, units support will not be available.\n"
     ]
    }
   ],
   "source": [
    "import json\n",
    "import glob\n",
    "import numpy as np\n",
    "import scipy.stats as scistats\n",
    "\n",
    "from optimal_statistic_covariances import OS, full_lstsq_recovery\n",
    "from enterprise_extensions.models import model_2a\n",
    "import matplotlib.pyplot as plt\n",
    "import matplotlib\n",
    "\n",
    "from h5pulsar.pulsar import FilePulsar\n",
    "\n",
    "%load_ext autoreload\n",
    "%autoreload 2\n",
    "\n",
    "%config InlineBackend.figure_format='retina'\n",
    "matplotlib.rcParams.update(matplotlib.rcParamsDefault)"
   ]
  },
  {
   "cell_type": "markdown",
   "metadata": {},
   "source": [
    "### Plotting options"
   ]
  },
  {
   "cell_type": "code",
   "execution_count": 2,
   "metadata": {},
   "outputs": [],
   "source": [
    "plt.rcParams.update(plt.rcParamsDefault)\n",
    "with open('../ng15_rcparams.json', 'rb') as fin:\n",
    "    plt.rcParams.update(json.load(fin))\n",
    "plt.rcParams['text.latex.preamble'] = (\n",
    "    r'\\usepackage{amsmath}'\n",
    "    r'\\usepackage{amsbsy}'\n",
    "    r'\\DeclareMathAlphabet{\\mathcal}{OMS}{cmsy}{m}{n}'\n",
    ")"
   ]
  },
  {
   "cell_type": "markdown",
   "metadata": {},
   "source": [
    "# Preliminaries"
   ]
  },
  {
   "cell_type": "code",
   "execution_count": 3,
   "metadata": {},
   "outputs": [],
   "source": [
    "datapath = './figure1_data/'\n",
    "pulsar_datapath = '../../tutorials/data/'"
   ]
  },
  {
   "cell_type": "code",
   "execution_count": 4,
   "metadata": {},
   "outputs": [],
   "source": [
    "# Hellings-Downs curve\n",
    "def hd(angseps):\n",
    "    xx = 0.5 * (1-np.cos(angseps))\n",
    "    return 1.5*xx*np.log(xx) - 0.25*xx + 0.5"
   ]
  },
  {
   "cell_type": "code",
   "execution_count": 5,
   "id": "491e6cb2",
   "metadata": {},
   "outputs": [
    {
     "name": "stdout",
     "output_type": "stream",
     "text": [
      "Loaded 67 pulsars from hdf5 files\n"
     ]
    }
   ],
   "source": [
    "psrs = []\n",
    "for hdf5_file in glob.glob(pulsar_datapath + '/hdf5/*.hdf5'):\n",
    "    psrs.append(FilePulsar(hdf5_file))\n",
    "print('Loaded {0} pulsars from hdf5 files'.format(len(psrs)))"
   ]
  },
  {
   "cell_type": "code",
   "execution_count": 6,
   "metadata": {},
   "outputs": [],
   "source": [
    "noise_dict_file = datapath + 'v1p1_wn_dict.json'\n",
    "noise_dictionary = json.load(open(noise_dict_file, 'r'))"
   ]
  },
  {
   "cell_type": "code",
   "execution_count": 7,
   "metadata": {},
   "outputs": [],
   "source": [
    "pta = model_2a(psrs, noisedict=noise_dictionary, tm_marg=False, \n",
    "               psd='powerlaw', n_rnfreqs=30, n_gwbfreqs=14, gamma_common=13.0/3.0)"
   ]
  },
  {
   "cell_type": "markdown",
   "metadata": {},
   "source": [
    "# New OS"
   ]
  },
  {
   "cell_type": "code",
   "execution_count": 8,
   "metadata": {},
   "outputs": [],
   "source": [
    "ml_os_vector = json.load(open(datapath + 'optstat_ml_gamma4p33.json', 'r'))"
   ]
  },
  {
   "cell_type": "code",
   "execution_count": 9,
   "metadata": {},
   "outputs": [],
   "source": [
    "os_obj = OS(psrs, pta, ml_os_vector)"
   ]
  },
  {
   "cell_type": "code",
   "execution_count": 10,
   "metadata": {},
   "outputs": [
    {
     "name": "stdout",
     "output_type": "stream",
     "text": [
      "A^2 estimate: 6.703650273305144e-30 +/- 1.2324322072882867e-30 with SNR: 5.439366347018102\n"
     ]
    }
   ],
   "source": [
    "print(f\"A^2 estimate: {os_obj.os()} +/- {os_obj.os_sigma()} with SNR: {os_obj.snr()}\")"
   ]
  },
  {
   "cell_type": "code",
   "execution_count": 11,
   "metadata": {},
   "outputs": [],
   "source": [
    "## takes ~18 minutes on my laptop. \n",
    "## matrix is symmetric so divide expected \n",
    "## remaining time by 2 when looking at progress bar.\n",
    "\n",
    "#covariance_matix_between_rhos = os_obj.gw_corr()\n",
    "covariance_matix_between_rhos = np.load(datapath + 'os_covariance_matix_between_rhos.npy')"
   ]
  },
  {
   "cell_type": "code",
   "execution_count": 12,
   "metadata": {},
   "outputs": [
    {
     "data": {
      "text/plain": [
       "array([[ 5.22836173e-57,  3.31890773e-59, -8.19314596e-60, ...,\n",
       "         2.96376121e-63,  2.05278837e-63,  1.10808595e-62],\n",
       "       [ 3.31890773e-59,  8.78766355e-57, -2.38145981e-59, ...,\n",
       "        -9.96874920e-62, -5.42093186e-62, -7.67437158e-63],\n",
       "       [-8.19314596e-60, -2.38145981e-59,  5.50608497e-58, ...,\n",
       "        -3.52642338e-61, -2.19418135e-61, -3.18671294e-61],\n",
       "       ...,\n",
       "       [ 2.96376121e-63, -9.96874920e-62, -3.52642338e-61, ...,\n",
       "         7.63763010e-59,  2.09878740e-59,  2.29977449e-60],\n",
       "       [ 2.05278837e-63, -5.42093186e-62, -2.19418135e-61, ...,\n",
       "         2.09878740e-59,  8.73747903e-58,  1.78970758e-59],\n",
       "       [ 1.10808595e-62, -7.67437158e-63, -3.18671294e-61, ...,\n",
       "         2.29977449e-60,  1.78970758e-59,  1.36070194e-58]])"
      ]
     },
     "execution_count": 12,
     "metadata": {},
     "output_type": "execute_result"
    }
   ],
   "source": [
    "covariance_matix_between_rhos"
   ]
  },
  {
   "cell_type": "code",
   "execution_count": 13,
   "metadata": {},
   "outputs": [],
   "source": [
    "a_hat, a_covariance = full_lstsq_recovery(os_obj, covariance_matix_between_rhos)"
   ]
  },
  {
   "cell_type": "code",
   "execution_count": 14,
   "metadata": {},
   "outputs": [
    {
     "name": "stdout",
     "output_type": "stream",
     "text": [
      "A^2 estimate: 4.209297591762329e-28 +/- 1.1178313327534165e-30 with SNR: 376.56\n"
     ]
    }
   ],
   "source": [
    "print(f\"A^2 estimate: {a_hat} +/- {a_covariance} with SNR: {np.round(a_hat / a_covariance, 2)}\")"
   ]
  },
  {
   "cell_type": "code",
   "execution_count": 15,
   "metadata": {},
   "outputs": [],
   "source": [
    "Crho = covariance_matix_between_rhos.copy()"
   ]
  },
  {
   "cell_type": "markdown",
   "metadata": {},
   "source": [
    "## Binned statistic (assumes independent pairs)\n",
    "\n",
    "Pair-covariant binning performed later using equations from Allen & Romano (2023)"
   ]
  },
  {
   "cell_type": "code",
   "execution_count": 16,
   "metadata": {},
   "outputs": [],
   "source": [
    "# compute weighted average of correlation data\n",
    "def weightedavg(rho, sig):\n",
    "    weights, avg = 0., 0.\n",
    "    for r,s in zip(rho,sig):\n",
    "        weights += 1./(s*s)\n",
    "        avg += r/(s*s)\n",
    "        \n",
    "    return avg/weights, np.sqrt(1./weights)"
   ]
  },
  {
   "cell_type": "markdown",
   "metadata": {},
   "source": [
    "### Divide by CURN amplitude"
   ]
  },
  {
   "cell_type": "code",
   "execution_count": 17,
   "metadata": {},
   "outputs": [],
   "source": [
    "A2_curn = 10**(2*ml_os_vector['gw_log10_A'])"
   ]
  },
  {
   "cell_type": "code",
   "execution_count": 18,
   "metadata": {},
   "outputs": [],
   "source": [
    "normalizing_amp = A2_curn"
   ]
  },
  {
   "cell_type": "markdown",
   "metadata": {},
   "source": [
    "### Different bin numbers -- equal-ish number of pairs"
   ]
  },
  {
   "cell_type": "code",
   "execution_count": 23,
   "metadata": {},
   "outputs": [],
   "source": [
    "xii_bins = np.array([  0.95374012,  19.17571344,  27.97758157,  36.88462878,\n",
    "                     44.45930411,  49.2       ,  61.21951091,  71.13671451,\n",
    "                     81.52651267,  91.76848602, 102.58676647, 113.15847004,\n",
    "                     125.06124956, 139.03110153, 152.7987445 , 178.7581949 ])*np.pi/180.0\n",
    "\n",
    "nbins_cdf = len(xii_bins) # TODO: check if this is correct"
   ]
  },
  {
   "cell_type": "code",
   "execution_count": 24,
   "metadata": {},
   "outputs": [
    {
     "name": "stdout",
     "output_type": "stream",
     "text": [
      "147\n",
      "143\n",
      "151\n",
      "152\n",
      "73\n",
      "208\n",
      "158\n",
      "146\n",
      "147\n"
     ]
    },
    {
     "name": "stderr",
     "output_type": "stream",
     "text": [
      "Locator attempting to generate 8233 ticks ([-124.10000000000001, ..., 287.50000000000006]), which exceeds Locator.MAXTICKS (1000).\n"
     ]
    },
    {
     "name": "stdout",
     "output_type": "stream",
     "text": [
      "152\n",
      "139\n",
      "153\n",
      "148\n",
      "147\n",
      "145\n"
     ]
    },
    {
     "name": "stderr",
     "output_type": "stream",
     "text": [
      "Locator attempting to generate 8233 ticks ([-124.10000000000001, ..., 287.50000000000006]), which exceeds Locator.MAXTICKS (1000).\n",
      "Locator attempting to generate 8233 ticks ([-124.10000000000001, ..., 287.50000000000006]), which exceeds Locator.MAXTICKS (1000).\n",
      "Locator attempting to generate 8233 ticks ([-124.10000000000001, ..., 287.50000000000006]), which exceeds Locator.MAXTICKS (1000).\n",
      "Locator attempting to generate 8233 ticks ([-124.10000000000001, ..., 287.50000000000006]), which exceeds Locator.MAXTICKS (1000).\n",
      "Locator attempting to generate 8233 ticks ([-124.10000000000001, ..., 287.50000000000006]), which exceeds Locator.MAXTICKS (1000).\n",
      "Locator attempting to generate 8233 ticks ([-124.10000000000001, ..., 287.50000000000006]), which exceeds Locator.MAXTICKS (1000).\n",
      "Locator attempting to generate 8233 ticks ([-124.10000000000001, ..., 287.50000000000006]), which exceeds Locator.MAXTICKS (1000).\n",
      "Locator attempting to generate 8233 ticks ([-124.10000000000001, ..., 287.50000000000006]), which exceeds Locator.MAXTICKS (1000).\n",
      "Locator attempting to generate 8233 ticks ([-124.10000000000001, ..., 287.50000000000006]), which exceeds Locator.MAXTICKS (1000).\n",
      "Locator attempting to generate 8233 ticks ([-124.10000000000001, ..., 287.50000000000006]), which exceeds Locator.MAXTICKS (1000).\n",
      "Locator attempting to generate 8233 ticks ([-124.10000000000001, ..., 287.50000000000006]), which exceeds Locator.MAXTICKS (1000).\n",
      "Locator attempting to generate 8233 ticks ([-124.10000000000001, ..., 287.50000000000006]), which exceeds Locator.MAXTICKS (1000).\n",
      "Locator attempting to generate 8233 ticks ([-124.10000000000001, ..., 287.50000000000006]), which exceeds Locator.MAXTICKS (1000).\n",
      "Locator attempting to generate 8233 ticks ([-124.10000000000001, ..., 287.50000000000006]), which exceeds Locator.MAXTICKS (1000).\n",
      "Locator attempting to generate 8233 ticks ([-124.10000000000001, ..., 287.50000000000006]), which exceeds Locator.MAXTICKS (1000).\n",
      "Locator attempting to generate 8233 ticks ([-124.10000000000001, ..., 287.50000000000006]), which exceeds Locator.MAXTICKS (1000).\n",
      "Locator attempting to generate 8233 ticks ([-124.10000000000001, ..., 287.50000000000006]), which exceeds Locator.MAXTICKS (1000).\n"
     ]
    },
    {
     "data": {
      "image/png": "[encoded data removed]",
      "text/plain": [
       "<Figure size 355.037x219.425 with 1 Axes>"
      ]
     },
     "metadata": {
      "image/png": {
       "height": 225,
       "width": 341
      }
     },
     "output_type": "display_data"
    }
   ],
   "source": [
    "import matplotlib.patches as mpatches\n",
    "\n",
    "fig, axs = plt.subplots(1, 1, sharex=True, rasterized=True)\n",
    "    \n",
    "### \n",
    "xii, rho, sig, hd_coeffs = os_obj.angles, os_obj.rhos, os_obj.sigmas, os_obj.orfs\n",
    "\n",
    "bins = xii_bins \n",
    "bin_inds = np.digitize(xii,bins)-1\n",
    "\n",
    "xii_mean = []\n",
    "xii_err = []\n",
    "\n",
    "## uncorrelated pairs\n",
    "rho_avg = []\n",
    "sig_avg = []\n",
    "\n",
    "## correlated pairs\n",
    "rho_avg_corr = []\n",
    "sig_avg_corr = []\n",
    "\n",
    "npairs = []\n",
    "for ii in range(15):\n",
    "    \n",
    "    mask = bin_inds == ii\n",
    "    npairs.append(np.sum(mask))\n",
    "    print(np.sum(mask))\n",
    "\n",
    "    xii_mean.append(np.mean(xii[mask]))\n",
    "    xii_err.append(np.std(xii[mask]))\n",
    "\n",
    "    r, s = weightedavg(rho[mask], sig[mask])\n",
    "    rho_avg.append(r)\n",
    "    sig_avg.append(s)\n",
    "    \n",
    "    ubin = os_obj.orfs[mask] \n",
    "    rho_tmp = rho[mask] \n",
    "    hd_fac = hd(xii_mean[ii]) \n",
    "    \n",
    "    # computing binned estimator using Allen & Romano (2023)\n",
    "    Cbin = Crho[mask,:][:,mask] \n",
    "    Xmat = (ubin.T @ np.linalg.inv(Cbin) @ ubin)**(-1.0)\n",
    "    rho_avg_corr.append( hd_fac * Xmat * (ubin.T @ np.linalg.inv(Cbin) @ \n",
    "                                 rho_tmp) )\n",
    "    sig_avg_corr.append( np.abs(hd_fac) * Xmat**0.5 )\n",
    "\n",
    "    \n",
    "xii_mean = np.array(xii_mean)\n",
    "xii_err = np.array(xii_err)\n",
    "\n",
    "(_, caps, _) = axs.errorbar(180/np.pi*xii_mean,\n",
    "                            np.array(rho_avg_corr)/normalizing_amp, \n",
    "                            yerr=np.array(sig_avg_corr)/normalizing_amp, \n",
    "                            ls='', color='C0',\n",
    "                            fmt='.', capsize=4, elinewidth=1.2, \n",
    "                            alpha=1.0, label='$\\gamma=13/3$')\n",
    "\n",
    "axs.axhline(0, color='k', lw=0.8)\n",
    "\n",
    "### over-plot the HD curve \n",
    "idx = np.argsort(xii)\n",
    "axs.plot(180/np.pi*xii[idx], hd_coeffs[idx], \n",
    "         lw=1.5, color='k', ls='dashed')\n",
    "axs.set_ylabel(r'$\\Gamma(\\xi_{ab})$')\n",
    "#axs.set_ylabel(r'Correlation Between Pulsars');\n",
    "#axs.yaxis.set_major_formatter(FormatStrFormatter('%.1f'));\n",
    "\n",
    "### aesthetics\n",
    "plt.xticks([0, 30, 60, 90, 120, 150, 180])\n",
    "plt.yticks([-0.4, -0.2, 0.0, 0.2, 0.4, 0.6, 0.8], \n",
    "           ['-0.4', '-0.2', '0.0', '0.2', '0.4', '0.6', '0.8'])\n",
    "plt.xlim(-10.01,190.01)\n",
    "# plt.ylim(1.05*np.array(rho_avg_corr).min()/1e-30,1.05*np.array(rho_avg_corr).max()/1e-30)\n",
    "plt.xlabel(r'Separation Angle Between Pulsars, $\\xi_{ab}$ [degrees]',fontsize=10)\n",
    "\n",
    "empty_patch = mpatches.Patch(color='none', \n",
    "                             label='$\\gamma=13/3$') \n",
    "plt.legend(handles=[empty_patch],loc='lower right',\n",
    "           frameon=False,prop={'size': 9})\n",
    "\n",
    "plt.show()\n",
    "#plt.savefig('./nano15_14f_fg_oscrosscor_paircorr_fig1_061123.pdf',bbox_inches='tight',dpi=400)"
   ]
  },
  {
   "cell_type": "code",
   "execution_count": 21,
   "metadata": {},
   "outputs": [],
   "source": [
    "binned_estimator_cov = np.zeros((nbins_cdf,nbins_cdf))\n",
    "for ii in range(nbins_cdf):\n",
    "    for jj in range(nbins_cdf):\n",
    "        \n",
    "        mask_ii = bin_inds == ii\n",
    "        mask_jj = bin_inds == jj\n",
    "        \n",
    "        ubin_ii = os_obj.orfs[mask_ii] \n",
    "        ubin_jj = os_obj.orfs[mask_jj] \n",
    "        \n",
    "        hd_ii = hd(np.mean(xii[mask_ii]))\n",
    "        hd_jj = hd(np.mean(xii[mask_jj]))\n",
    "        \n",
    "        Cbin_ii = Crho[mask_ii,:][:,mask_ii]\n",
    "        Cbin_jj = Crho[mask_jj,:][:,mask_jj]\n",
    "        Cbin_ij = Crho[mask_ii,:][:,mask_jj]\n",
    "        top = ubin_ii.T @ np.linalg.inv(Cbin_ii) @ Cbin_ij @ np.linalg.inv(Cbin_jj) @ ubin_jj\n",
    "        bot = (ubin_ii.T @ np.linalg.inv(Cbin_ii) @ ubin_ii) * (ubin_jj.T @ np.linalg.inv(Cbin_jj) @ ubin_jj)\n",
    "        binned_estimator_cov[ii,jj] = hd_ii * hd_jj * top / bot"
   ]
  },
  {
   "cell_type": "code",
   "execution_count": 22,
   "metadata": {},
   "outputs": [
    {
     "ename": "ValueError",
     "evalue": "matmul: Input operand 1 has a mismatch in its core dimension 0, with gufunc signature (n?,k),(k,m?)->(n?,m?) (size 16 is different from 15)",
     "output_type": "error",
     "traceback": [
      "\u001b[0;31m---------------------------------------------------------------------------\u001b[0m",
      "\u001b[0;31mValueError\u001b[0m                                Traceback (most recent call last)",
      "Cell \u001b[0;32mIn[22], line 3\u001b[0m\n\u001b[1;32m      1\u001b[0m \u001b[38;5;66;03m# pair-correlated OS\u001b[39;00m\n\u001b[0;32m----> 3\u001b[0m binned_chi2_paircorr \u001b[38;5;241m=\u001b[39m \u001b[43m(\u001b[49m\u001b[43mnp\u001b[49m\u001b[38;5;241;43m.\u001b[39;49m\u001b[43marray\u001b[49m\u001b[43m(\u001b[49m\u001b[43mrho_avg_corr\u001b[49m\u001b[43m)\u001b[49m\u001b[43m \u001b[49m\u001b[38;5;241;43m-\u001b[39;49m\u001b[43m \u001b[49m\u001b[43mA2_curn\u001b[49m\u001b[38;5;241;43m*\u001b[39;49m\u001b[43mhd\u001b[49m\u001b[43m(\u001b[49m\u001b[43mxii_mean\u001b[49m\u001b[43m)\u001b[49m\u001b[43m)\u001b[49m\u001b[38;5;241;43m.\u001b[39;49m\u001b[43mT\u001b[49m\u001b[43m \u001b[49m\u001b[38;5;241;43m@\u001b[39;49m\u001b[43m \u001b[49m\u001b[43mnp\u001b[49m\u001b[38;5;241;43m.\u001b[39;49m\u001b[43mlinalg\u001b[49m\u001b[38;5;241;43m.\u001b[39;49m\u001b[43minv\u001b[49m\u001b[43m(\u001b[49m\u001b[43mbinned_estimator_cov\u001b[49m\u001b[43m)\u001b[49m \u001b[38;5;241m@\u001b[39m (np\u001b[38;5;241m.\u001b[39marray(rho_avg_corr) \u001b[38;5;241m-\u001b[39m A2_curn\u001b[38;5;241m*\u001b[39mhd(xii_mean))\n\u001b[1;32m      4\u001b[0m \u001b[38;5;28mprint\u001b[39m(binned_chi2_paircorr)\n\u001b[1;32m      6\u001b[0m \u001b[38;5;66;03m####\u001b[39;00m\n",
      "\u001b[0;31mValueError\u001b[0m: matmul: Input operand 1 has a mismatch in its core dimension 0, with gufunc signature (n?,k),(k,m?)->(n?,m?) (size 16 is different from 15)"
     ]
    }
   ],
   "source": [
    "# pair-correlated OS\n",
    "\n",
    "binned_chi2_paircorr = (np.array(rho_avg_corr) - A2_curn*hd(xii_mean)).T @ np.linalg.inv(binned_estimator_cov) @ (np.array(rho_avg_corr) - A2_curn*hd(xii_mean))\n",
    "print(binned_chi2_paircorr)\n",
    "\n",
    "####\n",
    "dof = np.array(rho_avg_corr).shape[0] #- 1\n",
    "pval_paircorr = scistats.chi2(df=dof).sf(x=binned_chi2_paircorr)\n",
    "print(pval_paircorr)"
   ]
  },
  {
   "cell_type": "code",
   "execution_count": null,
   "id": "12636b24",
   "metadata": {},
   "outputs": [],
   "source": []
  }
 ],
 "metadata": {
  "kernelspec": {
   "display_name": "Python 3",
   "language": "python",
   "name": "python3"
  },
  "language_info": {
   "codemirror_mode": {
    "name": "ipython",
    "version": 3
   },
   "file_extension": ".py",
   "mimetype": "text/x-python",
   "name": "python",
   "nbconvert_exporter": "python",
   "pygments_lexer": "ipython3",
   "version": "3.10.13"
  }
 },
 "nbformat": 4,
 "nbformat_minor": 5
}
