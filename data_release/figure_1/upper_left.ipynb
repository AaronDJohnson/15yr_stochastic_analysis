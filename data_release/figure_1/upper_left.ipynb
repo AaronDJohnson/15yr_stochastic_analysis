{
 "cells": [
  {
   "cell_type": "markdown",
   "metadata": {},
   "source": [
    "# Notebook to create spectrum plot \n",
    "(with overlaid spectral fits)"
   ]
  },
  {
   "cell_type": "code",
   "execution_count": null,
   "metadata": {},
   "outputs": [],
   "source": [
    "import numpy as np\n",
    "import scipy.constants as sc\n",
    "from scipy.stats import rv_histogram\n",
    "import glob, os, json, corner\n",
    "\n",
    "import matplotlib.pyplot as plt\n",
    "import matplotlib\n",
    "%config InlineBackend.figure_format='retina'\n",
    "matplotlib.rcParams.update(matplotlib.rcParamsDefault)"
   ]
  },
  {
   "cell_type": "markdown",
   "metadata": {},
   "source": [
    "### Plotting specifications"
   ]
  },
  {
   "cell_type": "code",
   "execution_count": null,
   "metadata": {},
   "outputs": [],
   "source": [
    "# Check if latex is on your path\n",
    "!which latex"
   ]
  },
  {
   "cell_type": "code",
   "execution_count": null,
   "metadata": {},
   "outputs": [],
   "source": [
    "# If not, add it\n",
    "os.environ[\"PATH\"] += os.pathsep + '/home/taylosr8/latex_tmp/tex/bin/x86_64-linux'\n",
    "print(os.getenv(\"PATH\"))"
   ]
  },
  {
   "cell_type": "code",
   "execution_count": null,
   "metadata": {},
   "outputs": [],
   "source": [
    "# 15yr plotting specs\n",
    "plt.rcParams.update(plt.rcParamsDefault)\n",
    "with open('../ng15_rcparams.json', 'rb') as fin:\n",
    "    plt.rcParams.update(json.load(fin))"
   ]
  },
  {
   "cell_type": "code",
   "execution_count": null,
   "metadata": {},
   "outputs": [],
   "source": [
    "# do you need to install la_forge?\n",
    "#!pip install git+https://github.com/nanograv/la_forge.git"
   ]
  },
  {
   "cell_type": "code",
   "execution_count": null,
   "metadata": {},
   "outputs": [],
   "source": [
    "import la_forge.core as co"
   ]
  },
  {
   "cell_type": "code",
   "execution_count": null,
   "metadata": {},
   "outputs": [],
   "source": [
    "datapath = './figure1_data/'"
   ]
  },
  {
   "cell_type": "markdown",
   "metadata": {},
   "source": [
    "### Sampling frequencies"
   ]
  },
  {
   "cell_type": "code",
   "execution_count": null,
   "metadata": {},
   "outputs": [],
   "source": [
    "# Fluctuation frequencies in 15yr dataset\n",
    "Tspan = 505861299.1401644\n",
    "freqs = np.arange(1,31)/Tspan\n",
    "print(freqs)"
   ]
  },
  {
   "cell_type": "markdown",
   "metadata": {},
   "source": [
    "### 3A free-spec"
   ]
  },
  {
   "cell_type": "code",
   "execution_count": null,
   "metadata": {},
   "outputs": [],
   "source": [
    "# free-spec MCMC chain\n",
    "corepath = datapath + '30fCP_30fiRN_3A_freespec_chain.core'\n",
    "freespec = co.Core(corepath=corepath)  # open the file\n",
    "\n",
    "params = freespec.params  # access parameter names\n",
    "\n",
    "# crn free spec param names\n",
    "hd_rho_labels = [f'gw_hd_log10_rho_{ii}' for ii in range(30)]  \n",
    "\n",
    "# accessing crn free spec rhos\n",
    "hd_chain = freespec(hd_rho_labels)  # returns array of burn-in chain\n",
    "\n",
    "print(hd_chain.shape)\n",
    "\n",
    "# plotting violin plots\n",
    "rho_bins = np.linspace(-9, -4, num=400) # rho bins\n",
    "drho = rho_bins[1]-rho_bins[0]\n",
    "\n",
    "# turning freespec into rv hist and sampling\n",
    "epsilon = 1e-250  # make histograms for each rho\n",
    "hd_histograms = np.array([np.histogram(hd_chain[:,ii], \n",
    "                                    rho_bins, density=True)[0]\n",
    "                       for ii in range(hd_chain.shape[1])])\n",
    "\n",
    "bin_mid = (rho_bins[1:] + rho_bins[:-1]) / 2.0\n",
    "rvhist = [rv_histogram([hist, rho_bins]) for hist in hd_histograms]\n",
    "\n",
    "# draw samples from histograms for each rho\n",
    "rv_samples_hd = [rvh.rvs(size=100000) for rvh in rvhist]"
   ]
  },
  {
   "cell_type": "markdown",
   "metadata": {},
   "source": [
    "### Power-law HD"
   ]
  },
  {
   "cell_type": "code",
   "execution_count": null,
   "metadata": {},
   "outputs": [],
   "source": [
    "# MCMC chain\n",
    "corepath = datapath + '14f_PL_hd_crn.core'\n",
    "tmp_chain = co.Core(corepath=corepath)  # open the file\n",
    "\n",
    "params = tmp_chain.params  # access parameter names\n",
    "\n",
    "# fg param names\n",
    "labels = ['gw__gamma','gw__log10_A','nmodel'] \n",
    "\n",
    "# accessing gamma, log10A and nmodel\n",
    "tmp_chain = tmp_chain(labels)  # returns array of burn-in chain\n",
    "\n",
    "crn_chain = tmp_chain[tmp_chain[:,2]<0.5,:2]\n",
    "hd_chain = tmp_chain[tmp_chain[:,2]>0.5,:2]"
   ]
  },
  {
   "cell_type": "code",
   "execution_count": null,
   "metadata": {},
   "outputs": [],
   "source": [
    "def powerlaw(f, log10_A=-16, gamma=5, components=2):\n",
    "    df = np.diff(np.concatenate((np.array([0]), f[::components])))\n",
    "    return ((10**log10_A) ** 2 / 12.0 / np.pi**2 * sc.Julian_year ** (3-gamma) * \n",
    "            f ** (-gamma) * np.repeat(df, components))"
   ]
  },
  {
   "cell_type": "markdown",
   "metadata": {},
   "source": [
    "### Figure with y-axis as CP delay"
   ]
  },
  {
   "cell_type": "code",
   "execution_count": null,
   "metadata": {},
   "outputs": [],
   "source": [
    "freqs.shape"
   ]
  },
  {
   "cell_type": "code",
   "execution_count": null,
   "metadata": {},
   "outputs": [],
   "source": [
    "fig = plt.figure()\n",
    "ax = fig.add_subplot(111, rasterized=True)\n",
    "\n",
    "yrfac = np.log10(365.25 * 86400)\n",
    "    \n",
    "# free-spec violinplot of random samples\n",
    "v2 = ax.violinplot(rv_samples_hd, positions=np.log10(freqs), \n",
    "                    widths=0.05, showextrema=False)\n",
    "\n",
    "for pc in v2['bodies']:\n",
    "    pc.set_facecolor('None')\n",
    "    pc.set_edgecolor('k')\n",
    "    pc.set_linestyle('solid')\n",
    "    pc.set_alpha(0.4)\n",
    "    pc.set_linewidth(1.5)\n",
    "\n",
    "# pl bayesogram\n",
    "pl_draws = np.zeros((10000,len(freqs)))\n",
    "rnd_inds = np.random.randint(0, hd_chain.shape[0], size=10000)\n",
    "for kk,jj in enumerate(rnd_inds):\n",
    "    pl_draws[kk,:] = powerlaw(f=np.repeat(freqs,2), \n",
    "                                      log10_A=hd_chain[jj,1], gamma=hd_chain[jj,0])[::2]\n",
    "pl_68top = np.array([np.percentile(pl_draws[:,ii],q=84) \n",
    "                      for ii in range(pl_draws.shape[1])])\n",
    "pl_68bot = np.array([np.percentile(pl_draws[:,ii],q=16) \n",
    "                      for ii in range(pl_draws.shape[1])])\n",
    "pl_90top = np.array([np.percentile(pl_draws[:,ii],q=95) \n",
    "                      for ii in range(pl_draws.shape[1])])\n",
    "pl_90bot = np.array([np.percentile(pl_draws[:,ii],q=5) \n",
    "                      for ii in range(pl_draws.shape[1])])\n",
    "pl_med = np.array([np.percentile(pl_draws[:,ii],q=50) \n",
    "                    for ii in range(pl_draws.shape[1])])\n",
    "\n",
    "ax.fill_between(np.log10(freqs),\n",
    "                 0.5*np.log10(pl_90top),0.5*np.log10(pl_90bot),\n",
    "                 alpha=0.1,color='C0')\n",
    "ax.fill_between(np.log10(freqs),\n",
    "                 0.5*np.log10(pl_68top),0.5*np.log10(pl_68bot),\n",
    "                 alpha=0.3,color='C0')\n",
    "ax.plot(np.log10(freqs),\n",
    "         0.5*np.log10(pl_med),color='C0', alpha=0.5)\n",
    "\n",
    "\n",
    "fg_spec = 2.4e-15 * (freqs * 365.25*86400)**(-2./3.)\n",
    "fg_spec = fg_spec**2 / 12. / np.pi**2 / freqs**3 / Tspan\n",
    "ax.plot(np.log10(freqs),\n",
    "         0.5*np.log10(fg_spec),color='k',ls='dashed',alpha=1.0)\n",
    "\n",
    "\n",
    "# axis labels\n",
    "ax.set_xlabel(r'$\\log_{10}$(Frequency [Hz])'), \n",
    "           #fontsize=12)\n",
    "ax.set_ylabel(r'$\\log_{10}$(Excess timing delay [s])'), \n",
    "           #fontsize=12);\n",
    "\n",
    "# legend\n",
    "import matplotlib.patches as mpatches\n",
    "import matplotlib.lines as mlines\n",
    "\n",
    "fs_hd = mlines.Line2D([], [], color='k', linestyle='solid', \n",
    "                      label='Hellings--Downs spectrum', alpha=0.5)\n",
    "bplp = mlines.Line2D([], [], color='C0', \n",
    "                     label='Power-law posterior', alpha=0.4)\n",
    "plp = mlines.Line2D([], [], color='k', \n",
    "                    label='Median power-law amplitude; $\\gamma=13/3$', \n",
    "                    ls='dashed', alpha=1.0)\n",
    "ax.legend(handles=[fs_hd, bplp, plp],\n",
    "          loc='upper right',frameon=False)\n",
    "\n",
    "plt.yticks(rotation=45)\n",
    "ax.minorticks_on()\n",
    "ax.tick_params(which='both',direction='in',\n",
    "               tick2On=True)\n",
    "\n",
    "ax.set_ylim(-8.9,-5.5)\n",
    "ax.set_xlim(-8.8,-7.55)\n",
    "\n",
    "plt.show()\n",
    "#plt.savefig('nano15_hd_freespec_fig1_032223.pdf',bbox_inches='tight',dpi=400)"
   ]
  },
  {
   "cell_type": "code",
   "execution_count": null,
   "metadata": {},
   "outputs": [],
   "source": []
  }
 ],
 "metadata": {
  "kernelspec": {
   "display_name": "Python 3",
   "language": "python",
   "name": "python3"
  },
  "language_info": {
   "codemirror_mode": {
    "name": "ipython",
    "version": 3
   },
   "file_extension": ".py",
   "mimetype": "text/x-python",
   "name": "python",
   "nbconvert_exporter": "python",
   "pygments_lexer": "ipython3",
   "version": "3.7.6"
  }
 },
 "nbformat": 4,
 "nbformat_minor": 2
}
