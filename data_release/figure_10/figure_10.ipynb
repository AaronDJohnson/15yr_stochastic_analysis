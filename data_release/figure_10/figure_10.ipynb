{
 "cells": [
  {
   "cell_type": "markdown",
   "metadata": {},
   "source": [
    "This notebook will do the telescope comparison analyses. It will reproduce Figure 10 in the NANOGrav 15-year GWB paper.\n",
    "\n",
    "You will need to download the data from Google drive:\n",
    "* https://drive.google.com/file/d/1INBN83PPU_1CDVMA2KItcaXw91_4ChcM/view?usp=sharing: Unpack the file `psd_pl_posteriors.tar.gz` and then load the posteriors from `curn_variedgamma.h5`\n",
    "* https://drive.google.com/file/d/1rrOirEx-b7Xue_Do-8fjdYC3TD3NyRfe/view?usp=sharing: Unpack the file `compare_telescopes.tar.gz` and then load the posteriors from `curn_variedgamma_ao.h5` and `curn_variedgamma_gb.h5`."
   ]
  },
  {
   "cell_type": "code",
   "execution_count": 1,
   "metadata": {},
   "outputs": [],
   "source": [
    "from __future__ import (absolute_import, division,\n",
    "                        print_function, unicode_literals)\n",
    "\n",
    "import numpy as np\n",
    "import glob\n",
    "import os\n",
    "import json\n",
    "import pandas as pd\n",
    "\n",
    "import matplotlib.pyplot as plt\n",
    "import matplotlib\n",
    "from matplotlib import ticker as mticker\n",
    "%config InlineBackend.figure_format='retina'\n",
    "matplotlib.rcParams.update(matplotlib.rcParamsDefault)\n",
    "\n",
    "from chainconsumer import ChainConsumer"
   ]
  },
  {
   "cell_type": "code",
   "execution_count": 2,
   "metadata": {},
   "outputs": [
    {
     "name": "stderr",
     "output_type": "stream",
     "text": [
      "/Users/vigeland/opt/anaconda3/lib/python3.7/_collections_abc.py:841: MatplotlibDeprecationWarning: Support for setting the 'text.latex.preamble' or 'pgf.preamble' rcParam to a list of strings is deprecated since 3.3 and will be removed two minor releases later; set it to a single string instead.\n",
      "  self[key] = other[key]\n"
     ]
    }
   ],
   "source": [
    "plt.rcParams.update(plt.rcParamsDefault)\n",
    "with open('ng15_rcparams.json', 'rb') as f:\n",
    "    plt.rcParams.update(json.load(f))"
   ]
  },
  {
   "cell_type": "code",
   "execution_count": 3,
   "metadata": {},
   "outputs": [],
   "source": [
    "chaindir = './'\n",
    "\n",
    "chain = pd.read_hdf(chaindir + 'curn_variedgamma.h5')\n",
    "chain_ao = pd.read_hdf(chaindir + 'curn_variedgamma_ao.h5')\n",
    "chain_gb = pd.read_hdf(chaindir + 'curn_variedgamma_gb.h5')"
   ]
  },
  {
   "cell_type": "code",
   "execution_count": 18,
   "metadata": {},
   "outputs": [],
   "source": [
    "def get_posterior_samples(chain, params, burn):\n",
    "    \n",
    "    idx = [list(chain.columns).index(p) for p in params]\n",
    "    \n",
    "    return chain.values[burn:, idx]"
   ]
  },
  {
   "cell_type": "code",
   "execution_count": 19,
   "metadata": {},
   "outputs": [
    {
     "data": {
      "text/plain": [
       "<chainconsumer.chainconsumer.ChainConsumer at 0x7f8088028050>"
      ]
     },
     "execution_count": 19,
     "metadata": {},
     "output_type": "execute_result"
    }
   ],
   "source": [
    "burn = 50000\n",
    "labels = [r'$\\gamma_\\mathrm{CURN}$', r'$\\log_{10}A_\\mathrm{CURN}$']\n",
    "\n",
    "c = ChainConsumer()\n",
    "c.add_chain(get_posterior_samples(chain, ['gw_crn_gamma', 'gw_crn_log10_A'], burn), \n",
    "            weights=None, parameters=labels, zorder=1, name='Entire PTA')\n",
    "\n",
    "c.add_chain(get_posterior_samples(chain_ao, ['gw_gamma', 'gw_log10_A'], burn), \n",
    "            weights=None, parameters=labels, zorder=2, name='AO only')\n",
    "\n",
    "c.add_chain(get_posterior_samples(chain_gb, ['gw_gamma', 'gw_log10_A'], burn), \n",
    "            weights=None, parameters=labels, zorder=2, name='GBT only')"
   ]
  },
  {
   "cell_type": "code",
   "execution_count": 20,
   "metadata": {},
   "outputs": [
    {
     "data": {
      "text/plain": [
       "<chainconsumer.chainconsumer.ChainConsumer at 0x7f8088028050>"
      ]
     },
     "execution_count": 20,
     "metadata": {},
     "output_type": "execute_result"
    }
   ],
   "source": [
    "c.configure(usetex=True, \n",
    "            bar_shade=[False, False, False],\n",
    "            colors=['blue', 'orange', 'green'],\n",
    "           linestyles=['solid', 'solid', 'solid'],\n",
    "           linewidths=[1.0, 1.5, 1.5],\n",
    "           shade=[True, False, False], \n",
    "            shade_alpha=[0.05, 0, 0],\n",
    "            summary=False,\n",
    "            diagonal_tick_labels=True,\n",
    "           legend_kwargs={'loc':'lower left', 'handlelength':0, 'markerfirst':True, 'fontsize':'small'},\n",
    "           sigmas=[0,1,2,3])"
   ]
  },
  {
   "cell_type": "code",
   "execution_count": null,
   "metadata": {},
   "outputs": [],
   "source": [
    "fig = c.plotter.plot(truth=[4.333,-12], figsize=plt.rcParams['figure.figsize'])\n",
    "fig.axes[2].minorticks_on()\n",
    "fig.axes[2].tick_params(which='both',direction='in',tick2On=True)\n",
    "fig.axes[2].set_ylim((-15.4,-13.2))\n",
    "fig.axes[2].set_xlim((0.5,5.5))\n",
    "#fig.axes[2].vlines(13./3.,-15,-13.4,ls='dashed',color='k')\n",
    "#fig.axes[2].legend()\n",
    "\n",
    "fig.axes[0].set_xlim(fig.axes[2].get_xlim())\n",
    "fig.axes[0].tick_params(which='both',direction='in',top=True,labeltop=False,bottom=True,labelbottom=False)\n",
    "fig.axes[0].set_xticks([1, 2, 3, 4, 5])\n",
    "fig.axes[0].minorticks_on()\n",
    "\n",
    "fig.axes[3].set_ylim(fig.axes[2].get_ylim())\n",
    "fig.axes[3].set_yticks([-15, -14.5, -14, -13.5])\n",
    "fig.axes[3].minorticks_on()\n",
    "fig.axes[3].tick_params(which='both',direction='in',left=True,labelleft=False,right=True,labelright=False)\n",
    "\n",
    "#plt.show()\n",
    "plt.savefig('telescope_comparison_psd.pdf', bbox_inches='tight', dpi=400)"
   ]
  },
  {
   "cell_type": "code",
   "execution_count": null,
   "metadata": {},
   "outputs": [],
   "source": []
  }
 ],
 "metadata": {
  "kernelspec": {
   "display_name": "Python 3",
   "language": "python",
   "name": "python3"
  },
  "language_info": {
   "codemirror_mode": {
    "name": "ipython",
    "version": 3
   },
   "file_extension": ".py",
   "mimetype": "text/x-python",
   "name": "python",
   "nbconvert_exporter": "python",
   "pygments_lexer": "ipython3",
   "version": "3.7.6"
  }
 },
 "nbformat": 4,
 "nbformat_minor": 4
}
