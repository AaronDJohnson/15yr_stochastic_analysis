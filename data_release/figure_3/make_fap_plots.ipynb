{
 "cells": [
  {
   "cell_type": "markdown",
   "metadata": {},
   "source": [
    "This notebook will reproduce the background distribution plot in the NANOGrav 15-year GWB paper (Figure 3)."
   ]
  },
  {
   "cell_type": "code",
   "execution_count": 1,
   "metadata": {},
   "outputs": [],
   "source": [
    "from __future__ import (absolute_import, division,\n",
    "                        print_function, unicode_literals)\n",
    "\n",
    "import numpy as np\n",
    "import json\n",
    "from scipy.stats import norm\n",
    "from scipy.interpolate import interp1d\n",
    "from matplotlib import ticker as mticker\n",
    "import matplotlib.pyplot as plt\n",
    "import matplotlib\n",
    "\n",
    "%config InlineBackend.figure_format='retina'\n",
    "matplotlib.rcParams.update(matplotlib.rcParamsDefault)"
   ]
  },
  {
   "cell_type": "code",
   "execution_count": 2,
   "metadata": {},
   "outputs": [
    {
     "name": "stderr",
     "output_type": "stream",
     "text": [
      "/Users/vigeland/opt/anaconda3/lib/python3.7/_collections_abc.py:841: MatplotlibDeprecationWarning: Support for setting the 'text.latex.preamble' or 'pgf.preamble' rcParam to a list of strings is deprecated since 3.3 and will be removed two minor releases later; set it to a single string instead.\n",
      "  self[key] = other[key]\n"
     ]
    }
   ],
   "source": [
    "# load plotting parameters to match the style in the NANOGrav 15-year GWB paper\n",
    "with open('../ng15_rcparams.json', 'rb') as f:\n",
    "    plt.rcParams.update(json.load(f))\n",
    "    \n",
    "def figsize2(scale):\n",
    "    fig_width_pt = 513.17 #469.755                  # Get this from LaTeX using \\the\\textwidth\n",
    "    inches_per_pt = 1.0/72.27                       # Convert pt to inch\n",
    "    golden_mean = (np.sqrt(5.0)-1.0)/2.0            # Aesthetic ratio (you could change this)\n",
    "    fig_width = fig_width_pt*inches_per_pt*scale    # width in inches\n",
    "    fig_height = fig_width*golden_mean              # height in inches\n",
    "    fig_size = [2*fig_width-0.6,fig_height]\n",
    "    return fig_size"
   ]
  },
  {
   "cell_type": "code",
   "execution_count": 3,
   "metadata": {},
   "outputs": [],
   "source": [
    "# load phase shift results\n",
    "pshift_bfs = np.load('pshift_bfs.npy')\n",
    "pshift_optstat = np.load('pshift_optstat.npy')\n",
    "\n",
    "# load optimal statistic simulation results\n",
    "sim_snr = np.loadtxt('snrs_m2a_simulations.txt')\n",
    "\n",
    "# load analytical calculation of the optimal statistic background\n",
    "gx2 = np.loadtxt('gx2_ng15yr_vg_median.txt')\n",
    "\n",
    "# convert analytical background PDF to CDF\n",
    "gx2_cdf = np.zeros(gx2.shape)\n",
    "for i in range(gx2.shape[0]):\n",
    "    gx2_cdf[i,0] = gx2[i,0]\n",
    "    \n",
    "    if i > 0:\n",
    "        gx2_cdf[i,1] = gx2_cdf[i-1,1] + gx2[i,1]*(gx2[i,0] - gx2[i-1,0])"
   ]
  },
  {
   "cell_type": "code",
   "execution_count": 4,
   "metadata": {},
   "outputs": [],
   "source": [
    "sigma2 = norm.sf(2, loc=0, scale=1)\n",
    "sigma3 = norm.sf(3, loc=0, scale=1)\n",
    "sigma4 = norm.sf(4, loc=0, scale=1)"
   ]
  },
  {
   "cell_type": "code",
   "execution_count": 5,
   "metadata": {},
   "outputs": [],
   "source": [
    "fig, axs = plt.subplots(1, 2, figsize=figsize2(0.5), sharey=True)\n",
    "\n",
    "axs[0].hist(np.log10(pshift_bfs), histtype='step', bins=30, density=True, cumulative=-1, \n",
    "            range=(-5.5, 4), label='Phase shifts', zorder=9)\n",
    "\n",
    "axs[0].axvline(np.log10(226), ls='--', color='0.3', lw=0.8, zorder=10)\n",
    "\n",
    "axs[0].legend(bbox_to_anchor=(0.35, 0.38))\n",
    "axs[0].set_yscale('log')\n",
    "axs[0].set_xlim((-5,4))\n",
    "axs[0].set_xlabel(r'$\\log_{10} B^{\\mathrm{HD}}_{\\mathrm{CURN}}$')\n",
    "axs[0].set_ylabel(r'$1 - $CDF')\n",
    "\n",
    "axs[1].hist(pshift_optstat, histtype='step', bins=40, density=True, cumulative=-1, \n",
    "            label='Phase shifts', range=(-3.5, 6), zorder=9)\n",
    "axs[1].axvline(4.983383592865897, color='0.3', ls='--', lw=0.8, zorder=10)\n",
    "\n",
    "axs[1].hist(sim_snr, histtype='step', bins=40, range=(-3.5, 6), density=True, cumulative=-1, \n",
    "            label='Simulations')\n",
    "axs[1].plot(gx2_cdf[:,0], 1-gx2_cdf[:,1], label='Analytic background')\n",
    "\n",
    "axs[1].legend(bbox_to_anchor=(0.49, 0.38))\n",
    "axs[1].set_yscale('log')\n",
    "\n",
    "axs[1].set_xlim((-3,6.5))\n",
    "axs[1].set_xlabel('Noise-Marginalized Mean S/N')\n",
    "\n",
    "axs[0].set_ylim((1e-5,2))\n",
    "axs[0].set_yticks([1e-5, 1e-4, 1e-3, 1e-2, 1e-1, 1])\n",
    "\n",
    "for ax in axs:\n",
    "    ax.tick_params(axis='y', which='both')\n",
    "    \n",
    "x_pos = [3.5, 5.9]\n",
    "\n",
    "for i,ax in enumerate(axs):\n",
    "    ax.text(x_pos[i], sigma2*1.3, r'2$\\sigma$', color='0.3', fontsize=8);\n",
    "    ax.axhline(sigma2, ls=':', lw=1, color='0.5')\n",
    "    ax.text(x_pos[i], sigma3*1.3, r'3$\\sigma$', color='0.3', fontsize=8);\n",
    "    ax.axhline(sigma3, ls=':', lw=1, color='0.5')\n",
    "    ax.text(x_pos[i], sigma4*1.3, r'4$\\sigma$', color='0.3', fontsize=8);\n",
    "    ax.axhline(sigma4, ls=':', lw=1, color='0.5')\n",
    "\n",
    "    ax.xaxis.set_minor_locator(mticker.MultipleLocator(1))\n",
    "    ax.yaxis.set_minor_locator(mticker.LogLocator(numticks=999, \n",
    "                                                  subs=(0.1, 0.2, 0.3, 0.4, 0.5, 0.6, 0.7, 0.8, 0.9)))\n",
    "\n",
    "plt.tight_layout();\n",
    "\n",
    "plt.savefig('fap_plots_logscale_cdf_pshift.pdf')"
   ]
  },
  {
   "cell_type": "markdown",
   "metadata": {},
   "source": [
    "Below we compute the p-values for the Bayes factor and optimal statistic S/N:"
   ]
  },
  {
   "cell_type": "code",
   "execution_count": 6,
   "metadata": {},
   "outputs": [
    {
     "name": "stdout",
     "output_type": "stream",
     "text": [
      "The p-value for the Bayes factor is 7.85e-04\n"
     ]
    }
   ],
   "source": [
    "print('The p-value for the Bayes factor is {0:.2e}'.format(len(np.where(pshift_bfs > 226)[0])/len(pshift_bfs)))"
   ]
  },
  {
   "cell_type": "code",
   "execution_count": 7,
   "metadata": {},
   "outputs": [
    {
     "name": "stdout",
     "output_type": "stream",
     "text": [
      "The p-value for the optimal statistic S/N is:\n",
      "\t4.75e-05 (phase shifts)\n",
      "\t1.84e-04 (simulations)\n",
      "\t1.93e-04 (GX2 distribution)\n"
     ]
    }
   ],
   "source": [
    "nshift = len(np.where(pshift_optstat > 4.983383592865897)[0])\n",
    "print('The p-value for the optimal statistic S/N is:')\n",
    "print('\\t{0:.2e} (phase shifts)'.format(nshift/len(pshift_optstat)))\n",
    "print('\\t{0:.2e} (simulations)'.format(len(np.where(sim_snr > 4.983383592865897)[0])/len(sim_snr)))\n",
    "\n",
    "func = interp1d(gx2_cdf[:,0], 1-gx2_cdf[:,1])\n",
    "print('\\t{0:.2e} (GX2 distribution)'.format(func(4.983383592865897)))"
   ]
  },
  {
   "cell_type": "code",
   "execution_count": null,
   "metadata": {},
   "outputs": [],
   "source": []
  }
 ],
 "metadata": {
  "kernelspec": {
   "display_name": "Python 3",
   "language": "python",
   "name": "python3"
  },
  "language_info": {
   "codemirror_mode": {
    "name": "ipython",
    "version": 3
   },
   "file_extension": ".py",
   "mimetype": "text/x-python",
   "name": "python",
   "nbconvert_exporter": "python",
   "pygments_lexer": "ipython3",
   "version": "3.7.6"
  }
 },
 "nbformat": 4,
 "nbformat_minor": 5
}
