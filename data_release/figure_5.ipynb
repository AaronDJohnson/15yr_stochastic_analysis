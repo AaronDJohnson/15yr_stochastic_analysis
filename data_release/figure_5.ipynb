{
 "cells": [
  {
   "cell_type": "markdown",
   "metadata": {},
   "source": [
    "This notebook will do the telescope comparison analyses. It will reproduce Figure 5 in the NANOGrav 15-year GWB paper.\n",
    "\n",
    "You will need to download the data from Google drive:\n",
    "* https://drive.google.com/file/d/1INBN83PPU_1CDVMA2KItcaXw91_4ChcM/view?usp=sharing: Unpack the file `psd_pl_posteriors.tar.gz` and then load the posteriors from `curn_variedgamma.h5`\n",
    "* https://drive.google.com/file/d/11Cn6nh2Fi419jPntGjQ8C3Rvv3a7FvPt/view?usp=sharing: Unpack the file `psd_pl_posteriors_dmgp.tar.gz` and then load the posteriors from `curn_variedgamma_dmgp.h5`"
   ]
  },
  {
   "cell_type": "code",
   "execution_count": 1,
   "metadata": {},
   "outputs": [],
   "source": [
    "from __future__ import (absolute_import, division,\n",
    "                        print_function, unicode_literals)\n",
    "\n",
    "import numpy as np\n",
    "import glob\n",
    "import os\n",
    "import json\n",
    "import pandas as pd\n",
    "\n",
    "import matplotlib.pyplot as plt\n",
    "import matplotlib\n",
    "from matplotlib import ticker as mticker\n",
    "%config InlineBackend.figure_format='retina'\n",
    "matplotlib.rcParams.update(matplotlib.rcParamsDefault)\n",
    "\n",
    "from chainconsumer import ChainConsumer"
   ]
  },
  {
   "cell_type": "code",
   "execution_count": 2,
   "metadata": {},
   "outputs": [
    {
     "name": "stderr",
     "output_type": "stream",
     "text": [
      "/Users/vigeland/opt/anaconda3/lib/python3.7/_collections_abc.py:841: MatplotlibDeprecationWarning: Support for setting the 'text.latex.preamble' or 'pgf.preamble' rcParam to a list of strings is deprecated since 3.3 and will be removed two minor releases later; set it to a single string instead.\n",
      "  self[key] = other[key]\n"
     ]
    }
   ],
   "source": [
    "plt.rcParams.update(plt.rcParamsDefault)\n",
    "with open('ng15_rcparams.json', 'rb') as f:\n",
    "    plt.rcParams.update(json.load(f))"
   ]
  },
  {
   "cell_type": "code",
   "execution_count": 3,
   "metadata": {},
   "outputs": [],
   "source": [
    "chaindir = './'\n",
    "\n",
    "chain = pd.read_hdf(chaindir + 'curn_variedgamma.h5')\n",
    "chain_dmgp = pd.read_hdf(chaindir + 'curn_variedgamma_dmgp.h5')"
   ]
  },
  {
   "cell_type": "code",
   "execution_count": 4,
   "metadata": {},
   "outputs": [],
   "source": [
    "def get_posterior_samples(chain, params, burn):\n",
    "    \n",
    "    idx = [list(chain.columns).index(p) for p in params]\n",
    "    \n",
    "    return chain.values[burn:, idx]"
   ]
  },
  {
   "cell_type": "code",
   "execution_count": 6,
   "metadata": {},
   "outputs": [
    {
     "data": {
      "text/plain": [
       "<chainconsumer.chainconsumer.ChainConsumer at 0x7f9e88a8e6d0>"
      ]
     },
     "execution_count": 6,
     "metadata": {},
     "output_type": "execute_result"
    }
   ],
   "source": [
    "burn = 50000\n",
    "labels = [r'$\\gamma_\\mathrm{CURN}$', r'$\\log_{10}A_\\mathrm{CURN}$']\n",
    "\n",
    "c = ChainConsumer()\n",
    "c.add_chain(get_posterior_samples(chain, ['gw_crn_gamma', 'gw_crn_log10_A'], burn), \n",
    "            weights=None, parameters=labels, zorder=1, name='DMX')\n",
    "c.add_chain(get_posterior_samples(chain_dmgp, ['crn_gamma', 'crn_log10_A'], burn), \n",
    "            weights=None, parameters=labels, zorder=2, name='DMGP')"
   ]
  },
  {
   "cell_type": "code",
   "execution_count": 7,
   "metadata": {},
   "outputs": [
    {
     "data": {
      "text/plain": [
       "<chainconsumer.chainconsumer.ChainConsumer at 0x7f9e88a8e6d0>"
      ]
     },
     "execution_count": 7,
     "metadata": {},
     "output_type": "execute_result"
    }
   ],
   "source": [
    "c.configure(usetex=True, \n",
    "            bar_shade=[False, False],\n",
    "            colors=['blue', 'red'],\n",
    "           linestyles=['solid', 'solid'],\n",
    "           linewidths=[1.0, 1.5],\n",
    "           shade=[True, False], \n",
    "            shade_alpha=[0.05, 0],\n",
    "            summary=False,\n",
    "            diagonal_tick_labels=True,\n",
    "           legend_kwargs={'loc':'lower left', 'handlelength':0, 'markerfirst':True, 'fontsize':'small'},\n",
    "           sigmas=[0,1,2,3])"
   ]
  },
  {
   "cell_type": "code",
   "execution_count": 8,
   "metadata": {},
   "outputs": [],
   "source": [
    "fig = c.plotter.plot(truth=[4.333,-12], figsize=plt.rcParams['figure.figsize'])\n",
    "fig.axes[2].minorticks_on()\n",
    "fig.axes[2].tick_params(which='both',direction='in',tick2On=True)\n",
    "fig.axes[2].set_xlim((2.0, 5.4))\n",
    "fig.axes[2].set_ylim((-15.2,-13.6))\n",
    "\n",
    "fig.axes[0].set_xlim(fig.axes[2].get_xlim())\n",
    "fig.axes[0].tick_params(which='both',direction='in',top=True,labeltop=False,bottom=True,labelbottom=False)\n",
    "fig.axes[0].set_xticks([2.4, 3.2, 4.0, 4.8])\n",
    "fig.axes[0].minorticks_on()\n",
    "\n",
    "fig.axes[3].set_ylim(fig.axes[2].get_ylim())\n",
    "fig.axes[3].set_yticks([-14.8, -14.4, -14, -13.6])\n",
    "fig.axes[3].minorticks_on()\n",
    "fig.axes[3].tick_params(which='both',direction='in',left=True,labelleft=False,right=True,labelright=False)\n",
    "\n",
    "#plt.show()\n",
    "plt.savefig('dmgp_comparison.pdf', bbox_inches='tight', dpi=400)"
   ]
  },
  {
   "cell_type": "code",
   "execution_count": null,
   "metadata": {},
   "outputs": [],
   "source": []
  }
 ],
 "metadata": {
  "kernelspec": {
   "display_name": "Python 3",
   "language": "python",
   "name": "python3"
  },
  "language_info": {
   "codemirror_mode": {
    "name": "ipython",
    "version": 3
   },
   "file_extension": ".py",
   "mimetype": "text/x-python",
   "name": "python",
   "nbconvert_exporter": "python",
   "pygments_lexer": "ipython3",
   "version": "3.7.6"
  }
 },
 "nbformat": 4,
 "nbformat_minor": 4
}
