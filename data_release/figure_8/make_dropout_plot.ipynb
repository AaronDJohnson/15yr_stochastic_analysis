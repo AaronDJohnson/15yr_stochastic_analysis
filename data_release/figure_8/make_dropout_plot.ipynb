{
 "cells": [
  {
   "cell_type": "markdown",
   "metadata": {},
   "source": [
    "This notebook will reproduce the dropout plot in the NANOGrav 15-year GWB paper (Figure 8)."
   ]
  },
  {
   "cell_type": "code",
   "execution_count": 1,
   "metadata": {},
   "outputs": [],
   "source": [
    "from __future__ import (absolute_import, division,\n",
    "                        print_function, unicode_literals)\n",
    "\n",
    "import json\n",
    "import numpy as np\n",
    "\n",
    "import matplotlib.pyplot as plt\n",
    "import matplotlib\n",
    "from matplotlib.ticker import (MultipleLocator, AutoMinorLocator)\n",
    "%config InlineBackend.figure_format='retina'\n",
    "matplotlib.rcParams.update(matplotlib.rcParamsDefault)"
   ]
  },
  {
   "cell_type": "code",
   "execution_count": 2,
   "metadata": {},
   "outputs": [
    {
     "name": "stderr",
     "output_type": "stream",
     "text": [
      "/Users/vigeland/opt/anaconda3/lib/python3.7/_collections_abc.py:841: MatplotlibDeprecationWarning: Support for setting the 'text.latex.preamble' or 'pgf.preamble' rcParam to a list of strings is deprecated since 3.3 and will be removed two minor releases later; set it to a single string instead.\n",
      "  self[key] = other[key]\n"
     ]
    }
   ],
   "source": [
    "# load plotting parameters to match the style in the NANOGrav 15-year GWB paper\n",
    "with open('../ng15_rcparams.json', 'rb') as f:\n",
    "    plt.rcParams.update(json.load(f))\n",
    "\n",
    "def figsize2(scale):\n",
    "    fig_width_pt = 513.17 #469.755                  # Get this from LaTeX using \\the\\textwidth\n",
    "    inches_per_pt = 1.0/72.27                       # Convert pt to inch\n",
    "    golden_mean = (np.sqrt(5.0)-1.0)/2.0            # Aesthetic ratio (you could change this)\n",
    "    fig_width = fig_width_pt*inches_per_pt*scale    # width in inches\n",
    "    fig_height = fig_width*golden_mean              # height in inches\n",
    "    fig_size = [fig_width,1.5*fig_height]\n",
    "    return fig_size"
   ]
  },
  {
   "cell_type": "code",
   "execution_count": 3,
   "metadata": {},
   "outputs": [],
   "source": [
    "# loads the dropout factors for CURN and HD correlations from the file dropout_results.txt\n",
    "data = np.genfromtxt('dropout_results.txt', dtype='S13, f8, f8, f8')\n",
    "\n",
    "psrnames = [ data[i][0] for i in range(data.shape[0]) ]\n",
    "Tspans = [ data[i][1] for i in range(data.shape[0]) ]\n",
    "dropout_curn = [ data[i][2] for i in range(data.shape[0]) ]\n",
    "dropout_hd = [ data[i][3] for i in range(data.shape[0]) ]"
   ]
  },
  {
   "cell_type": "code",
   "execution_count": 6,
   "metadata": {},
   "outputs": [],
   "source": [
    "xrange = (-0.5, 1.3)\n",
    "\n",
    "fig, axs = plt.subplots(2, 1, figsize=figsize2(0.5), sharex=True, gridspec_kw={'height_ratios': [1, 2]})\n",
    "\n",
    "axs[0].hist(np.log10(dropout_curn), histtype='step', bins=30, density=True, range=xrange)\n",
    "axs[0].hist(np.log10(dropout_hd), histtype='step', bins=30, density=True, range=xrange)\n",
    "\n",
    "axs[0].set_yticks([]);\n",
    "\n",
    "axs[1].scatter(np.log10(dropout_curn), Tspans, marker='.', label='Dropout factors, CURN', zorder=10)\n",
    "axs[1].scatter(np.log10(dropout_hd), Tspans, marker='.', label='Dropout factors, HD correlations', zorder=9)\n",
    "\n",
    "axs[1].set_ylabel('Observation Span [yrs]');\n",
    "axs[1].set_xlabel(r'$\\log_{10}(\\mathrm{Dropout \\; Factor})$');\n",
    "\n",
    "axs[1].set_xlim(xrange);\n",
    "axs[1].set_ylim((3, 17));\n",
    "\n",
    "axs[1].xaxis.set_minor_locator(AutoMinorLocator())\n",
    "axs[1].yaxis.set_minor_locator(AutoMinorLocator())\n",
    "\n",
    "axs[1].xaxis.grid(True, which='both', alpha=0.1)\n",
    "axs[1].yaxis.grid(True, which='both', alpha=0.1)\n",
    "\n",
    "axs[1].legend(loc='best');\n",
    "\n",
    "plt.tight_layout();\n",
    "\n",
    "plt.subplots_adjust(hspace=0.1)\n",
    "\n",
    "plt.savefig('dropout_scatter_2panel.pdf')"
   ]
  },
  {
   "cell_type": "code",
   "execution_count": null,
   "metadata": {},
   "outputs": [],
   "source": []
  }
 ],
 "metadata": {
  "kernelspec": {
   "display_name": "Python 3",
   "language": "python",
   "name": "python3"
  },
  "language_info": {
   "codemirror_mode": {
    "name": "ipython",
    "version": 3
   },
   "file_extension": ".py",
   "mimetype": "text/x-python",
   "name": "python",
   "nbconvert_exporter": "python",
   "pygments_lexer": "ipython3",
   "version": "3.7.6"
  }
 },
 "nbformat": 4,
 "nbformat_minor": 5
}
