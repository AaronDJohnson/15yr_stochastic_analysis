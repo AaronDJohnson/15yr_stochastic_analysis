{
 "cells": [
  {
   "cell_type": "code",
   "execution_count": null,
   "id": "fc0a9911",
   "metadata": {},
   "outputs": [],
   "source": [
    "import numpy as np\n",
    "import scipy.constants as sc\n",
    "import scipy. linalg as sl\n",
    "import scipy.special as ss\n",
    "import glob, os, json, math, corner\n",
    "\n",
    "import matplotlib.pyplot as plt\n",
    "import matplotlib\n",
    "%config InlineBackend.figure_format='retina'\n",
    "matplotlib.rcParams.update(matplotlib.rcParamsDefault)"
   ]
  },
  {
   "cell_type": "markdown",
   "id": "75ace544",
   "metadata": {},
   "source": [
    "### Plotting specifications"
   ]
  },
  {
   "cell_type": "code",
   "execution_count": null,
   "id": "44740b63",
   "metadata": {},
   "outputs": [],
   "source": [
    "# Check if latex is on your path\n",
    "!which latex"
   ]
  },
  {
   "cell_type": "code",
   "execution_count": null,
   "id": "322fa32f",
   "metadata": {},
   "outputs": [],
   "source": [
    "# If not, add it\n",
    "os.environ[\"PATH\"] += os.pathsep + '/home/taylosr8/latex_tmp/tex/bin/x86_64-linux'\n",
    "print(os.getenv(\"PATH\"))"
   ]
  },
  {
   "cell_type": "code",
   "execution_count": null,
   "id": "6aefbe3a",
   "metadata": {},
   "outputs": [],
   "source": [
    "# 15yr plotting specs\n",
    "plt.rcParams.update(plt.rcParamsDefault)\n",
    "with open('./ng15_rcparams.json', 'rb') as fin:\n",
    "    plt.rcParams.update(json.load(fin))"
   ]
  },
  {
   "cell_type": "markdown",
   "id": "356b2af8",
   "metadata": {},
   "source": [
    "### Useful functions"
   ]
  },
  {
   "cell_type": "code",
   "execution_count": null,
   "id": "f54ce900",
   "metadata": {},
   "outputs": [],
   "source": [
    "def hd(angseps):\n",
    "    xx = 0.5 * (1-np.cos(angseps))\n",
    "    return 1.5*xx*np.log(xx) - 0.25*xx + 0.5"
   ]
  },
  {
   "cell_type": "code",
   "execution_count": null,
   "id": "fda1d4a9",
   "metadata": {},
   "outputs": [],
   "source": [
    "def al(ell):\n",
    "    if ell == 0:\n",
    "        return 0.\n",
    "    elif ell == 1:\n",
    "        return 0.\n",
    "    else:\n",
    "        return 1.5 * (2.0*ell+1.0) * math.factorial(ell-2) / math.factorial(ell+2)"
   ]
  },
  {
   "cell_type": "markdown",
   "id": "364dd0c0",
   "metadata": {},
   "source": [
    "## Pairwise correlation data"
   ]
  },
  {
   "cell_type": "code",
   "execution_count": null,
   "id": "027a4ac9",
   "metadata": {},
   "outputs": [],
   "source": [
    "datapath = './figure7_data/'"
   ]
  },
  {
   "cell_type": "code",
   "execution_count": null,
   "id": "63bf0272",
   "metadata": {},
   "outputs": [],
   "source": [
    "#os_5f_vg = np.load(datapath + 'correlations_variedgamma_nfreq5.npz')\n",
    "#os_14f_vg = np.load(datapath + 'correlations_variedgamma_nfreq14.npz')"
   ]
  },
  {
   "cell_type": "code",
   "execution_count": null,
   "id": "22fa99b7",
   "metadata": {},
   "outputs": [],
   "source": [
    "#xi_5f_vg, rho_5f_vg, sig_5f_vg = os_5f_vg['xi'], os_5f_vg['rho'], os_5f_vg['sig']\n",
    "#xi_14f_vg, rho_14f_vg, sig_14f_vg = os_14f_vg['xi'], os_14f_vg['rho'], os_14f_vg['sig']"
   ]
  },
  {
   "cell_type": "markdown",
   "id": "f8abadfc",
   "metadata": {},
   "source": [
    "## Legendre spectrum"
   ]
  },
  {
   "cell_type": "code",
   "execution_count": null,
   "id": "36f3b553",
   "metadata": {},
   "outputs": [],
   "source": [
    "cosangseps_tmp = np.cos(np.linspace(0.,np.pi,1000))\n",
    "\n",
    "p0 = np.ones_like(cosangseps_tmp)\n",
    "p1 = cosangseps_tmp\n",
    "p2 = 0.5 * (3*cosangseps_tmp**2 - 1)\n",
    "p3 = 0.5 * (5*cosangseps_tmp**3 - 3*cosangseps_tmp)\n",
    "p4 = 0.125 * (35*cosangseps_tmp**4 - 30*cosangseps_tmp**2 + 3)"
   ]
  },
  {
   "cell_type": "code",
   "execution_count": null,
   "id": "7054958e",
   "metadata": {},
   "outputs": [],
   "source": [
    "def legendre_poly(ell, cosx):\n",
    "    coeffs = ss.legendre(ell).coeffs[::-1]\n",
    "    return np.sum(np.array([coeffs[ii]*cosx**ii for ii in range(ell+1)]),axis=0)"
   ]
  },
  {
   "cell_type": "code",
   "execution_count": null,
   "id": "3c211b79",
   "metadata": {},
   "outputs": [],
   "source": [
    "plt.plot(cosangseps_tmp, legendre_poly(0,cosangseps_tmp));\n",
    "plt.plot(cosangseps_tmp, legendre_poly(1,cosangseps_tmp));\n",
    "plt.plot(cosangseps_tmp, legendre_poly(2,cosangseps_tmp));\n",
    "plt.plot(cosangseps_tmp, legendre_poly(3,cosangseps_tmp));\n",
    "plt.plot(cosangseps_tmp, legendre_poly(4,cosangseps_tmp));\n",
    "plt.plot(cosangseps_tmp, legendre_poly(5,cosangseps_tmp));\n",
    "plt.show()"
   ]
  },
  {
   "cell_type": "markdown",
   "id": "89ca7b33",
   "metadata": {},
   "source": [
    "#### Parameter estimation for lmax=5"
   ]
  },
  {
   "cell_type": "code",
   "execution_count": null,
   "id": "4a26edfb",
   "metadata": {},
   "outputs": [],
   "source": [
    "xi_14f_vg = np.load(datapath + 'xi_14f_vg.npy')"
   ]
  },
  {
   "cell_type": "code",
   "execution_count": null,
   "id": "21e00f6a",
   "metadata": {},
   "outputs": [],
   "source": [
    "cosxi = np.cos(xi_14f_vg)\n",
    "\n",
    "lmax = 5\n",
    "Mleg = np.column_stack([legendre_poly(ii,cosxi) for ii in range(lmax+1)])"
   ]
  },
  {
   "cell_type": "code",
   "execution_count": null,
   "id": "c7eb6227",
   "metadata": {},
   "outputs": [],
   "source": [
    "#theta_hat_14f_vg = np.zeros((rho_14f_vg.shape[0],Mleg.shape[1]))\n",
    "\n",
    "#for ii in range(theta_hat_14f_vg.shape[0]):\n",
    "    \n",
    "#    fisher_14f_vg = Mleg.T @ np.diag(1 / sig_14f_vg[ii]**2) @ Mleg\n",
    "#    fisher_14f_vg_inv = sl.pinv(fisher_14f_vg)\n",
    "#    theta_hat_14f_vg_tmp = fisher_14f_vg_inv @ Mleg.T @ np.diag(1 / sig_14f_vg[ii]**2) @ rho_14f_vg[ii]\n",
    "    \n",
    "#    theta_hat_14f_vg[ii,:] = theta_hat_14f_vg_tmp\n",
    "    \n",
    "    ####\n",
    "    \n",
    "#    if ii % 1000 == 0: print(ii)"
   ]
  },
  {
   "cell_type": "code",
   "execution_count": null,
   "id": "38020439",
   "metadata": {},
   "outputs": [],
   "source": [
    "theta_hat_14f_vg = np.load(datapath + 'theta_hat_14f_vg.npy')"
   ]
  },
  {
   "cell_type": "code",
   "execution_count": null,
   "id": "302b274c",
   "metadata": {},
   "outputs": [],
   "source": [
    "import matplotlib.patches as mpatches\n",
    "import matplotlib.lines as mlines\n",
    "import matplotlib.ticker as tck\n",
    "\n",
    "fig = plt.figure()\n",
    "ax = fig.add_subplot(111, rasterized=True)\n",
    "\n",
    "v2 = ax.violinplot(theta_hat_14f_vg/1e-30, positions=np.arange(0,6), \n",
    "                    widths=0.25, showextrema=False, showmedians=True);\n",
    "\n",
    "ax.yaxis.set_minor_locator(tck.AutoMinorLocator())\n",
    "ax.tick_params(which='both',direction='in',\n",
    "               tick2On=True)\n",
    "ax.hlines(0,-1,6,color='k',lw=0.8)\n",
    "ax.plot(range(0,6), [5.9560577362506165*al(ii) \n",
    "                     for ii in range(0,6)], \n",
    "        color='k', ls='dashed')\n",
    "plt.xlim(-0.2,5.2)\n",
    "plt.ylim(-1,3)\n",
    "plt.xlabel('Legendre polynomial order, $l$')\n",
    "plt.ylabel('$A_l^2\\,\\,\\,[\\\\times 10^{-30}]$')\n",
    "\n",
    "n14f_legend = mpatches.Patch(color='C0', label=r'MCOS Legendre spectrum', alpha=0.2)\n",
    "bayes = mlines.Line2D([], [], color='k', \n",
    "                      label=r'Median $\\hat{A}^2_\\mathrm{HD}$ spectrum', \n",
    "                      ls='dashed', alpha=1.0)\n",
    "ax.legend(handles=[n14f_legend, bayes],loc='upper right',frameon=False)\n",
    "ax.tick_params(axis='x', which='minor', bottom=False, top=False)\n",
    "\n",
    "plt.show()\n",
    "#plt.savefig('os_legendre_vg.pdf',bbox_inches='tight',dpi=400)"
   ]
  },
  {
   "cell_type": "code",
   "execution_count": null,
   "id": "32b86fce",
   "metadata": {},
   "outputs": [],
   "source": []
  }
 ],
 "metadata": {
  "kernelspec": {
   "display_name": "Python 3 (ipykernel)",
   "language": "python",
   "name": "python3"
  },
  "language_info": {
   "codemirror_mode": {
    "name": "ipython",
    "version": 3
   },
   "file_extension": ".py",
   "mimetype": "text/x-python",
   "name": "python",
   "nbconvert_exporter": "python",
   "pygments_lexer": "ipython3",
   "version": "3.8.13"
  }
 },
 "nbformat": 4,
 "nbformat_minor": 5
}
