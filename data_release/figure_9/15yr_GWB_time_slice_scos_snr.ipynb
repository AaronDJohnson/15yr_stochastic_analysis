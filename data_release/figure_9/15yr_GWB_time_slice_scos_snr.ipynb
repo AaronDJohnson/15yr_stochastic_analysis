{
 "cells": [
  {
   "cell_type": "code",
   "execution_count": 9,
   "id": "519c1a31-143e-4bab-9bf1-b5dd4fcd0ada",
   "metadata": {},
   "outputs": [],
   "source": [
    "import pandas as pd\n",
    "import numpy as np\n",
    "import seaborn as sns\n",
    "import json\n",
    "import matplotlib.pyplot as plt\n",
    "from astropy.time import Time\n",
    "\n",
    "plt.rcParams.update(plt.rcParamsDefault)\n",
    "with open('../ng15_rcparams.json', 'rb') as fin:\n",
    "    plt.rcParams.update(json.load(fin))\n",
    "plt.rcParams['text.latex.preamble'] = (\n",
    "    r'\\usepackage{amsmath}'\n",
    "    r'\\usepackage{amsbsy}'\n",
    "    r'\\DeclareMathAlphabet{\\mathcal}{OMS}{cmsy}{m}{n}'\n",
    ")"
   ]
  },
  {
   "cell_type": "code",
   "execution_count": 10,
   "id": "3e6e1870-dbda-4375-8ea2-8a367887d831",
   "metadata": {},
   "outputs": [],
   "source": [
    "def patch_violinplot(fc=\"none\"):\n",
    "    from matplotlib.collections import PolyCollection\n",
    "    ax = plt.gca()\n",
    "    for art in ax.get_children():\n",
    "        if isinstance(art, PolyCollection):\n",
    "            c = art.get_facecolor()\n",
    "            art.set_edgecolor(c)\n",
    "            art.set_linewidth(1)\n",
    "            art.set_facecolor(fc)\n",
    "            art.set_alpha(0.6)"
   ]
  },
  {
   "cell_type": "code",
   "execution_count": 11,
   "id": "3a8b2e1d-b707-466a-bc58-1bc1ea6e83fd",
   "metadata": {},
   "outputs": [],
   "source": [
    "# DATA CAN BE DOWNLOADED HERE: https://drive.google.com/file/d/1FfvQBh8Pl7FhvvMQPYQYpXEe9fuT6jDM/view?usp=sharing\n",
    "mcos_results = pd.read_feather('mcos_results/mcos_results_500.feather')\n",
    "scos_results = pd.read_feather('scos_results/scos_results_500.feather')"
   ]
  },
  {
   "cell_type": "code",
   "execution_count": 12,
   "id": "38a6c96b-a26a-44ae-8add-067ed41e51c1",
   "metadata": {},
   "outputs": [
    {
     "name": "stderr",
     "output_type": "stream",
     "text": [
      "/var/folders/bt/hxhr8xxx7d11f4lwfyj1_b580000gn/T/ipykernel_7080/438478602.py:46: UserWarning: FigureCanvasPdf is non-interactive, and thus cannot be shown\n",
      "  plt.show()\n"
     ]
    }
   ],
   "source": [
    "plt.figure()\n",
    "# bool_cond = (mcos_results['start_time']==53216.0) &  (mcos_results['end_time'] > 55237) & ~(mcos_results['end_time'] == 59072.0)\n",
    "bool_cond_scos = (scos_results['start_time']==53216.0) &  (scos_results['end_time'] > 55237) & ~(scos_results['end_time'] == 59072.0)\n",
    "sns.violinplot(scos_results.loc[bool_cond_scos], x=\"end_time\", y=\"HD_SNR\", inner=None, color='C0', width=1.1, label='HD', zorder=1000)\n",
    "\n",
    "# get unique end times for the slices, change them to dates\n",
    "ets_unique = np.unique(scos_results.loc[scos_results['start_time']==53216.0]['end_time']).astype(int)\n",
    "ets_unique = np.array([et for et in ets_unique if (et > 55237) and ~(et == 59072.0)])\n",
    "# By accident there's an extra slice in there at MJD 59072. I've removed it.\n",
    "ets = [Time(et, format='mjd').strftime('%m/%Y') for et in ets_unique if (et > 55237) and ~(et == 59072.0)]\n",
    "ets_time_total = np.array([np.round((et - 53216) / 365.25, 1) for et in ets_unique])\n",
    "patch_violinplot('C0')\n",
    "# sns.violinplot(scos_results.loc[bool_cond_scos], x=\"end_time\", y=\"HD_SNR\", inner=None, color='C0', width=1.1, label='HD', zorder=1000, lw=1)\n",
    "\n",
    "# number of pulsars...\n",
    "npsrs = [np.unique(scos_results.loc[bool_cond_scos].loc[(scos_results['end_time']==etu)]['number_of_psrs'])[0] for etu in ets_unique]\n",
    "\n",
    "# plt.gca().set_xticklabels(ets)\n",
    "xticks = plt.gca().get_xticks()\n",
    "plt.gca().set_xticks(xticks[::4])\n",
    "plt.gca().set_xticklabels(ets_time_total[::4])\n",
    "plt.plot([], [], c='C0', label='HD S/N')\n",
    "plt.ylim(-3, 7)\n",
    "\n",
    "plt.ylabel('S/N')\n",
    "\n",
    "\n",
    "plt.legend(loc='upper left')\n",
    "diffs = np.diff(npsrs)\n",
    "ax = plt.gca()\n",
    "\n",
    "# plt.xticks(rotation=90, fontsize=8)\n",
    "plt.gca().tick_params(which='minor')\n",
    "plt.xlabel('Years in data set')\n",
    "\n",
    "# Plot number of pulsars on right hand axis.\n",
    "ax2 = ax.twinx()\n",
    "ax2.plot(np.arange(np.size(npsrs)), npsrs, lw=1, c='C1', label='Number of pulsars', zorder=-100, ls='--')\n",
    "ax2.scatter(np.arange(np.size(npsrs)), npsrs, c='C1', s=4)\n",
    "ax2.set_ylabel('$N_{\\\\textrm{psrs}}$')\n",
    "ax2.legend(loc='lower right')\n",
    "\n",
    "\n",
    "plt.savefig(\"forward_slices.pdf\", bbox_inches='tight')\n",
    "plt.savefig(\"forward_slices.png\", bbox_inches='tight')\n",
    "plt.show()\n",
    "plt.close()"
   ]
  },
  {
   "cell_type": "code",
   "execution_count": null,
   "id": "41ec59b1",
   "metadata": {},
   "outputs": [],
   "source": []
  }
 ],
 "metadata": {
  "kernelspec": {
   "display_name": "tutorial_test",
   "language": "python",
   "name": "python3"
  },
  "language_info": {
   "codemirror_mode": {
    "name": "ipython",
    "version": 3
   },
   "file_extension": ".py",
   "mimetype": "text/x-python",
   "name": "python",
   "nbconvert_exporter": "python",
   "pygments_lexer": "ipython3",
   "version": "3.10.13"
  }
 },
 "nbformat": 4,
 "nbformat_minor": 5
}
