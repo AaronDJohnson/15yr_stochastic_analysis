{
 "cells": [
  {
   "cell_type": "markdown",
   "metadata": {},
   "source": [
    "This notebook will compute the noise-marginalized optimal statistic S/N. It will reproduce Figure 4 in the NANOGrav 15-year GWB paper.\n",
    "\n",
    "You will need to download the data from Google drive: https://drive.google.com/file/d/1VtYv-r5psyRSYrm3_AuxCv0JaS9rEGfI/view?usp=sharing. Unpack the file `correlations.tar.gz` and then load the correlations from `correlations_gamma4p33_nfreq14.npz` and `correlations_variedgamma_nfreq14.npz`."
   ]
  },
  {
   "cell_type": "code",
   "execution_count": 1,
   "metadata": {},
   "outputs": [],
   "source": [
    "from __future__ import (absolute_import, division,\n",
    "                        print_function, unicode_literals)\n",
    "\n",
    "import numpy as np\n",
    "import json\n",
    "\n",
    "import matplotlib.pyplot as plt\n",
    "import matplotlib\n",
    "from matplotlib import ticker as mticker\n",
    "%config InlineBackend.figure_format='retina'\n",
    "matplotlib.rcParams.update(matplotlib.rcParamsDefault)"
   ]
  },
  {
   "cell_type": "code",
   "execution_count": 2,
   "metadata": {},
   "outputs": [
    {
     "name": "stderr",
     "output_type": "stream",
     "text": [
      "/Users/vigeland/opt/anaconda3/lib/python3.7/_collections_abc.py:841: MatplotlibDeprecationWarning: Support for setting the 'text.latex.preamble' or 'pgf.preamble' rcParam to a list of strings is deprecated since 3.3 and will be removed two minor releases later; set it to a single string instead.\n",
      "  self[key] = other[key]\n"
     ]
    }
   ],
   "source": [
    "plt.rcParams.update(plt.rcParamsDefault)\n",
    "with open('ng15_rcparams.json', 'rb') as f:\n",
    "    plt.rcParams.update(json.load(f))"
   ]
  },
  {
   "cell_type": "code",
   "execution_count": 5,
   "metadata": {},
   "outputs": [],
   "source": [
    "def load_npzfile(filename):\n",
    "    \n",
    "    npzfile = np.load(filename)\n",
    "    \n",
    "    xi = npzfile['xi']\n",
    "    rho = npzfile['rho']\n",
    "    sig = npzfile['sig']\n",
    "    \n",
    "    hd = npzfile['hd']\n",
    " \n",
    "    return xi, rho, sig, hd"
   ]
  },
  {
   "cell_type": "code",
   "execution_count": 6,
   "metadata": {},
   "outputs": [],
   "source": [
    "def compute_os(corr, rho, sig):\n",
    "    \n",
    "    OS = np.array([(np.sum(rho[i,:]*corr / sig[i,:] ** 2) / np.sum(corr ** 2 / sig[i,:] ** 2)) \n",
    "                  for i in range(rho.shape[0])])\n",
    "    OS_sig = np.array([1 / np.sqrt(np.sum(corr ** 2 / sig[i,:] ** 2)) for i in range(rho.shape[0])])\n",
    "    \n",
    "    return OS, OS_sig"
   ]
  },
  {
   "cell_type": "code",
   "execution_count": 7,
   "metadata": {},
   "outputs": [
    {
     "ename": "FileNotFoundError",
     "evalue": "[Errno 2] No such file or directory: 'correlations_gamma4p33_nfreq14.npz'",
     "output_type": "error",
     "traceback": [
      "\u001b[0;31m---------------------------------------------------------------------------\u001b[0m",
      "\u001b[0;31mFileNotFoundError\u001b[0m                         Traceback (most recent call last)",
      "\u001b[0;32m<ipython-input-7-d72b1cea3c5e>\u001b[0m in \u001b[0;36m<module>\u001b[0;34m\u001b[0m\n\u001b[0;32m----> 1\u001b[0;31m \u001b[0mxi_fg\u001b[0m\u001b[0;34m,\u001b[0m \u001b[0mrho_fg\u001b[0m\u001b[0;34m,\u001b[0m \u001b[0msig_fg\u001b[0m\u001b[0;34m,\u001b[0m \u001b[0mhd_fg\u001b[0m \u001b[0;34m=\u001b[0m \u001b[0mload_npzfile\u001b[0m\u001b[0;34m(\u001b[0m\u001b[0;34m'correlations_gamma4p33_nfreq14.npz'\u001b[0m\u001b[0;34m)\u001b[0m\u001b[0;34m\u001b[0m\u001b[0;34m\u001b[0m\u001b[0m\n\u001b[0m\u001b[1;32m      2\u001b[0m \u001b[0mOS_fg\u001b[0m\u001b[0;34m,\u001b[0m \u001b[0msig_fg\u001b[0m \u001b[0;34m=\u001b[0m \u001b[0mcompute_os\u001b[0m\u001b[0;34m(\u001b[0m\u001b[0mhd_fg\u001b[0m\u001b[0;34m,\u001b[0m \u001b[0mrho_fg\u001b[0m\u001b[0;34m,\u001b[0m \u001b[0msig_fg\u001b[0m\u001b[0;34m)\u001b[0m\u001b[0;34m\u001b[0m\u001b[0;34m\u001b[0m\u001b[0m\n\u001b[1;32m      3\u001b[0m \u001b[0;34m\u001b[0m\u001b[0m\n\u001b[1;32m      4\u001b[0m \u001b[0mxi_vg\u001b[0m\u001b[0;34m,\u001b[0m \u001b[0mrho_vg\u001b[0m\u001b[0;34m,\u001b[0m \u001b[0msig_vg\u001b[0m\u001b[0;34m,\u001b[0m \u001b[0mhd_vg\u001b[0m \u001b[0;34m=\u001b[0m \u001b[0mload_npzfile\u001b[0m\u001b[0;34m(\u001b[0m\u001b[0;34m'correlations_variedgamma_nfreq14.npz'\u001b[0m\u001b[0;34m)\u001b[0m\u001b[0;34m\u001b[0m\u001b[0;34m\u001b[0m\u001b[0m\n\u001b[1;32m      5\u001b[0m \u001b[0mOS_vg\u001b[0m\u001b[0;34m,\u001b[0m \u001b[0msig_vg\u001b[0m \u001b[0;34m=\u001b[0m \u001b[0mcompute_os\u001b[0m\u001b[0;34m(\u001b[0m\u001b[0mhd_vg\u001b[0m\u001b[0;34m,\u001b[0m \u001b[0mrho_vg\u001b[0m\u001b[0;34m,\u001b[0m \u001b[0msig_vg\u001b[0m\u001b[0;34m)\u001b[0m\u001b[0;34m\u001b[0m\u001b[0;34m\u001b[0m\u001b[0m\n",
      "\u001b[0;32m<ipython-input-5-626e7909dc58>\u001b[0m in \u001b[0;36mload_npzfile\u001b[0;34m(filename)\u001b[0m\n\u001b[1;32m      1\u001b[0m \u001b[0;32mdef\u001b[0m \u001b[0mload_npzfile\u001b[0m\u001b[0;34m(\u001b[0m\u001b[0mfilename\u001b[0m\u001b[0;34m)\u001b[0m\u001b[0;34m:\u001b[0m\u001b[0;34m\u001b[0m\u001b[0;34m\u001b[0m\u001b[0m\n\u001b[1;32m      2\u001b[0m \u001b[0;34m\u001b[0m\u001b[0m\n\u001b[0;32m----> 3\u001b[0;31m     \u001b[0mnpzfile\u001b[0m \u001b[0;34m=\u001b[0m \u001b[0mnp\u001b[0m\u001b[0;34m.\u001b[0m\u001b[0mload\u001b[0m\u001b[0;34m(\u001b[0m\u001b[0mfilename\u001b[0m\u001b[0;34m)\u001b[0m\u001b[0;34m\u001b[0m\u001b[0;34m\u001b[0m\u001b[0m\n\u001b[0m\u001b[1;32m      4\u001b[0m \u001b[0;34m\u001b[0m\u001b[0m\n\u001b[1;32m      5\u001b[0m     \u001b[0mxi\u001b[0m \u001b[0;34m=\u001b[0m \u001b[0mnpzfile\u001b[0m\u001b[0;34m[\u001b[0m\u001b[0;34m'xi'\u001b[0m\u001b[0;34m]\u001b[0m\u001b[0;34m\u001b[0m\u001b[0;34m\u001b[0m\u001b[0m\n",
      "\u001b[0;32m~/opt/anaconda3/lib/python3.7/site-packages/numpy/lib/npyio.py\u001b[0m in \u001b[0;36mload\u001b[0;34m(file, mmap_mode, allow_pickle, fix_imports, encoding)\u001b[0m\n\u001b[1;32m    426\u001b[0m         \u001b[0mown_fid\u001b[0m \u001b[0;34m=\u001b[0m \u001b[0;32mFalse\u001b[0m\u001b[0;34m\u001b[0m\u001b[0;34m\u001b[0m\u001b[0m\n\u001b[1;32m    427\u001b[0m     \u001b[0;32melse\u001b[0m\u001b[0;34m:\u001b[0m\u001b[0;34m\u001b[0m\u001b[0;34m\u001b[0m\u001b[0m\n\u001b[0;32m--> 428\u001b[0;31m         \u001b[0mfid\u001b[0m \u001b[0;34m=\u001b[0m \u001b[0mopen\u001b[0m\u001b[0;34m(\u001b[0m\u001b[0mos_fspath\u001b[0m\u001b[0;34m(\u001b[0m\u001b[0mfile\u001b[0m\u001b[0;34m)\u001b[0m\u001b[0;34m,\u001b[0m \u001b[0;34m\"rb\"\u001b[0m\u001b[0;34m)\u001b[0m\u001b[0;34m\u001b[0m\u001b[0;34m\u001b[0m\u001b[0m\n\u001b[0m\u001b[1;32m    429\u001b[0m         \u001b[0mown_fid\u001b[0m \u001b[0;34m=\u001b[0m \u001b[0;32mTrue\u001b[0m\u001b[0;34m\u001b[0m\u001b[0;34m\u001b[0m\u001b[0m\n\u001b[1;32m    430\u001b[0m \u001b[0;34m\u001b[0m\u001b[0m\n",
      "\u001b[0;31mFileNotFoundError\u001b[0m: [Errno 2] No such file or directory: 'correlations_gamma4p33_nfreq14.npz'"
     ]
    }
   ],
   "source": [
    "# specify directory where the correlations are located\n",
    "datadir = './'\n",
    "\n",
    "xi_fg, rho_fg, sig_fg, hd_fg = load_npzfile(datadir + 'correlations_gamma4p33_nfreq14.npz')\n",
    "OS_fg, sig_fg = compute_os(hd_fg, rho_fg, sig_fg)\n",
    "\n",
    "xi_vg, rho_vg, sig_vg, hd_vg = load_npzfile(datadir + 'correlations_variedgamma_nfreq14.npz')\n",
    "OS_vg, sig_vg = compute_os(hd_vg, rho_vg, sig_vg)"
   ]
  },
  {
   "cell_type": "code",
   "execution_count": 12,
   "metadata": {},
   "outputs": [
    {
     "name": "stdout",
     "output_type": "stream",
     "text": [
      "Optimal statistic mean S/N:\n",
      "\t4.983 (varied gamma)\n",
      "\t4.486 (gamma = 13/3)\n"
     ]
    }
   ],
   "source": [
    "fig, ax = plt.subplots(1, 1)\n",
    "\n",
    "ax.hist(OS_vg/sig_vg, histtype='step', bins=30, range=(1.5,10), density=True,\n",
    "            color='C0', label=r'Varied $\\gamma$', rasterized=True);\n",
    "ax.hist(OS_fg/sig_fg, histtype='step', bins=30, range=(1.5,10), density=True,\n",
    "            color='C0', ls='--', label=r'$\\gamma = 13/3$', rasterized=True);\n",
    "\n",
    "ax.axvline(np.mean(OS_vg/sig_vg), color='C0', ls='-')\n",
    "ax.axvline(np.mean(OS_fg/sig_fg), color='C0', ls='--')\n",
    "\n",
    "ax.set_xlabel('S/N');\n",
    "ax.set_xlim((1.5,10));\n",
    "ax.set_ylim((0.0, 0.44));\n",
    "\n",
    "ax.xaxis.set_minor_locator(mticker.MultipleLocator(1))\n",
    "\n",
    "ax.legend();\n",
    "ax.set_ylabel('PDF');\n",
    "\n",
    "plt.tight_layout();\n",
    "\n",
    "plt.savefig('optstat.pdf', bbox_inches='tight');\n",
    "\n",
    "print('Optimal statistic mean S/N:')\n",
    "print('\\t{0:.3f} (varied gamma)'.format(np.mean(OS_vg/sig_vg)))\n",
    "print('\\t{0:.3f} (gamma = 13/3)'.format(np.mean(OS_fg/sig_fg)))"
   ]
  },
  {
   "cell_type": "code",
   "execution_count": null,
   "metadata": {},
   "outputs": [],
   "source": []
  }
 ],
 "metadata": {
  "kernelspec": {
   "display_name": "Python 3",
   "language": "python",
   "name": "python3"
  },
  "language_info": {
   "codemirror_mode": {
    "name": "ipython",
    "version": 3
   },
   "file_extension": ".py",
   "mimetype": "text/x-python",
   "name": "python",
   "nbconvert_exporter": "python",
   "pygments_lexer": "ipython3",
   "version": "3.7.6"
  }
 },
 "nbformat": 4,
 "nbformat_minor": 5
}
